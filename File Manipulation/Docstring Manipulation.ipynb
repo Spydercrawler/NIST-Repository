{
 "cells": [
  {
   "cell_type": "code",
   "execution_count": 1,
   "metadata": {
    "collapsed": true
   },
   "outputs": [],
   "source": [
    "with open(\"Sample Docstring.txt\") as f: \n",
    "    data = f.readlines() "
   ]
  },
  {
   "cell_type": "code",
   "execution_count": 2,
   "metadata": {
    "collapsed": true
   },
   "outputs": [],
   "source": [
    "file_string = \"\"\n",
    "for line in data:\n",
    "    file_string += line"
   ]
  },
  {
   "cell_type": "code",
   "execution_count": 3,
   "metadata": {},
   "outputs": [
    {
     "data": {
      "text/plain": [
       "'Non-Docstring Text\\n\"\"\"\\nLorem ipsum dolor sit amet, consectetur adipiscing elit.\\nAliquam massa sapien, tempus in cursus eget, pulvinar et neque.\\nVestibulum ante ipsum primis in faucibus orci luctus et ultrices posuere cubilia Curae; Aenean gravida finibus eros eu ullamcorper.\\n:param thing1: One of the parameters\\n:param thing2: Another one of the parameters\\n:param thing3: A third parameter\\n:param cow: just mixing things up a little\\n:param thing4: A fourth parameter\\n\"\"\"'"
      ]
     },
     "execution_count": 3,
     "metadata": {},
     "output_type": "execute_result"
    }
   ],
   "source": [
    "file_string"
   ]
  },
  {
   "cell_type": "code",
   "execution_count": 4,
   "metadata": {
    "collapsed": true
   },
   "outputs": [],
   "source": [
    "while file_string.find(\":param \") != -1:\n",
    "    start_index = file_string.find(\":param \")\n",
    "    end_index = file_string.find(\":\",start_index+7)\n",
    "    variablename = file_string[start_index+7:end_index]\n",
    "    file_string = file_string[:start_index] + \"\\n**\" + variablename + \":**\" + file_string[end_index+1:]"
   ]
  },
  {
   "cell_type": "code",
   "execution_count": 5,
   "metadata": {},
   "outputs": [
    {
     "data": {
      "text/plain": [
       "'Non-Docstring Text\\n\"\"\"\\nLorem ipsum dolor sit amet, consectetur adipiscing elit.\\nAliquam massa sapien, tempus in cursus eget, pulvinar et neque.\\nVestibulum ante ipsum primis in faucibus orci luctus et ultrices posuere cubilia Curae; Aenean gravida finibus eros eu ullamcorper.\\n\\n**thing1:** One of the parameters\\n\\n**thing2:** Another one of the parameters\\n\\n**thing3:** A third parameter\\n\\n**cow:** just mixing things up a little\\n\\n**thing4:** A fourth parameter\\n\"\"\"'"
      ]
     },
     "execution_count": 5,
     "metadata": {},
     "output_type": "execute_result"
    }
   ],
   "source": [
    "file_string"
   ]
  },
  {
   "cell_type": "code",
   "execution_count": 6,
   "metadata": {
    "collapsed": true
   },
   "outputs": [],
   "source": [
    "with open(\"New Docstring.txt\",\"w\") as f:\n",
    "    f.write(file_string)"
   ]
  },
  {
   "cell_type": "code",
   "execution_count": null,
   "metadata": {
    "collapsed": true
   },
   "outputs": [],
   "source": []
  }
 ],
 "metadata": {
  "kernelspec": {
   "display_name": "Python 2",
   "language": "python",
   "name": "python2"
  },
  "language_info": {
   "codemirror_mode": {
    "name": "ipython",
    "version": 2
   },
   "file_extension": ".py",
   "mimetype": "text/x-python",
   "name": "python",
   "nbconvert_exporter": "python",
   "pygments_lexer": "ipython2",
   "version": "2.7.13"
  }
 },
 "nbformat": 4,
 "nbformat_minor": 2
}

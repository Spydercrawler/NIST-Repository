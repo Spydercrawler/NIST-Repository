{
 "cells": [
  {
   "cell_type": "code",
   "execution_count": 1,
   "metadata": {
    "collapsed": true
   },
   "outputs": [],
   "source": [
    "from TableDictionarySystem import *\n",
    "from ArrayDictionarySystem import *\n",
    "from array_actions import *"
   ]
  },
  {
   "cell_type": "code",
   "execution_count": 2,
   "metadata": {
    "collapsed": true
   },
   "outputs": [],
   "source": [
    "from sklearn.discriminant_analysis import QuadraticDiscriminantAnalysis\n",
    "from sklearn.naive_bayes import GaussianNB, BernoulliNB, MultinomialNB\n",
    "from sklearn.tree import DecisionTreeClassifier\n",
    "from sklearn.ensemble import RandomForestClassifier\n",
    "from sklearn.linear_model import RidgeClassifier, SGDClassifier, PassiveAggressiveClassifier, Perceptron\n",
    "from sklearn.svm import SVC\n",
    "from sklearn.externals import joblib"
   ]
  },
  {
   "cell_type": "code",
   "execution_count": 3,
   "metadata": {
    "collapsed": true
   },
   "outputs": [],
   "source": [
    "magS11_arr = joblib.load(\"anti_glitch_measures.pkl\")"
   ]
  },
  {
   "cell_type": "code",
   "execution_count": 4,
   "metadata": {
    "scrolled": false
   },
   "outputs": [
    {
     "name": "stdout",
     "output_type": "stream",
     "text": [
      "[<matplotlib.lines.Line2D object at 0x000000000DD5F2B0>, <matplotlib.lines.Line2D object at 0x000000000269F1D0>, <matplotlib.lines.Line2D object at 0x000000000DD5FA90>, <matplotlib.lines.Line2D object at 0x000000000DD72048>, <matplotlib.lines.Line2D object at 0x000000000DD725C0>, <matplotlib.lines.Line2D object at 0x000000000DD72B38>, <matplotlib.lines.Line2D object at 0x000000000DD800F0>, <matplotlib.lines.Line2D object at 0x000000000DD80668>, <matplotlib.lines.Line2D object at 0x000000000DD80BE0>, <matplotlib.lines.Line2D object at 0x000000000DD8E198>, <matplotlib.lines.Line2D object at 0x000000000DD8E710>]\n"
     ]
    }
   ],
   "source": [
    "compare_classifiers_in_graph(magS11_arr,np.linspace(0,0.005,50),\n",
    "                             show=False,\n",
    "                             title=\"Randomness amplitude vs percent correct for magS11\",\n",
    "                             QDA=QuadraticDiscriminantAnalysis,\n",
    "                             GaussianNB=GaussianNB,\n",
    "                             BernoulliNB=BernoulliNB,\n",
    "                             MultinomialNB=MultinomialNB,\n",
    "                             DecisionTree=DecisionTreeClassifier,\n",
    "                             RandomForest=RandomForestClassifier,\n",
    "                             Ridge=RidgeClassifier,\n",
    "                             SGD=SGDClassifier,\n",
    "                             PassiveAggressive=PassiveAggressiveClassifier,\n",
    "                             Perceptron=Perceptron,\n",
    "                             SVC=SVC)"
   ]
  },
  {
   "cell_type": "code",
   "execution_count": 5,
   "metadata": {},
   "outputs": [
    {
     "ename": "SyntaxError",
     "evalue": "non-keyword arg after keyword arg (<ipython-input-5-7da81003d8be>, line 1)",
     "output_type": "error",
     "traceback": [
      "\u001b[1;36m  File \u001b[1;32m\"<ipython-input-5-7da81003d8be>\"\u001b[1;36m, line \u001b[1;32m1\u001b[0m\n\u001b[1;33m    plt.figure(figsize=10,10)\u001b[0m\n\u001b[1;31mSyntaxError\u001b[0m\u001b[1;31m:\u001b[0m non-keyword arg after keyword arg\n"
     ]
    }
   ],
   "source": [
    "plt.figure(figsize=(10,10))\n",
    "plt.show()"
   ]
  }
 ],
 "metadata": {
  "kernelspec": {
   "display_name": "Python 2",
   "language": "python",
   "name": "python2"
  },
  "language_info": {
   "codemirror_mode": {
    "name": "ipython",
    "version": 2
   },
   "file_extension": ".py",
   "mimetype": "text/x-python",
   "name": "python",
   "nbconvert_exporter": "python",
   "pygments_lexer": "ipython2",
   "version": "2.7.13"
  }
 },
 "nbformat": 4,
 "nbformat_minor": 2
}

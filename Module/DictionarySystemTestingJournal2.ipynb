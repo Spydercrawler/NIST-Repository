{
 "cells": [
  {
   "cell_type": "code",
   "execution_count": 1,
   "metadata": {
    "collapsed": true
   },
   "outputs": [],
   "source": [
    "from TableDictionarySystem import *\n",
    "from ArrayDictionarySystem import *\n",
    "from sklearn.externals import joblib\n",
    "from array_actions import *"
   ]
  },
  {
   "cell_type": "code",
   "execution_count": 2,
   "metadata": {
    "collapsed": true
   },
   "outputs": [],
   "source": [
    "table_dictionary_system = joblib.load(\"two_port_dictionary_system_one.pkl\")"
   ]
  },
  {
   "cell_type": "code",
   "execution_count": 3,
   "metadata": {
    "collapsed": true
   },
   "outputs": [
    {
     "name": "stdout",
     "output_type": "stream",
     "text": [
      "{'magS11': array([ 0.0033,  0.0033,  0.0048,  0.0066,  0.0074,  0.0071,  0.0082,\n",
      "        0.009 ,  0.0093,  0.0092,  0.0095,  0.0105,  0.0106,  0.011 ,\n",
      "        0.0121,  0.0122,  0.0135,  0.0141,  0.0155,  0.0157,  0.0164,\n",
      "        0.0167,  0.018 ,  0.0176,  0.0172,  0.0177,  0.0169,  0.0171,\n",
      "        0.0173,  0.0176,  0.0168,  0.0171,  0.0169,  0.016 ,  0.016 ,\n",
      "        0.0168,  0.0173,  0.0167,  0.017 ,  0.0182,  0.0191,  0.0182,\n",
      "        0.0197,  0.0198,  0.0197,  0.0197,  0.0218,  0.0219,  0.0226,\n",
      "        0.0246,  0.0251,  0.0268,  0.0286,  0.0304,  0.0299,  0.0317,\n",
      "        0.0331,  0.0343,  0.0345,  0.0366,  0.0378,  0.0382,  0.0386,\n",
      "        0.0404,  0.0413,  0.041 ,  0.0431,  0.0429,  0.0429,  0.0445,\n",
      "        0.0464,  0.0467,  0.0485,  0.051 ,  0.0516,  0.0509,  0.0529,\n",
      "        0.0548,  0.0548,  0.0556,  0.0575,  0.058 ,  0.0588,  0.0609,\n",
      "        0.0609,  0.0603,  0.0608,  0.0621,  0.0606,  0.0609,  0.063 ,\n",
      "        0.0628,  0.0614,  0.0621,  0.0632,  0.0615,  0.0615,  0.0636,\n",
      "        0.0624,  0.0595,  0.0612,  0.0609,  0.059 ,  0.0596,  0.0617,\n",
      "        0.0599,  0.0577,  0.0598,  0.0582,  0.0538,  0.0542,  0.0558,\n",
      "        0.0521,  0.0511,  0.054 ,  0.0534,  0.0509,  0.051 ,  0.0522,\n",
      "        0.049 ,  0.0498,  0.0523,  0.0514,  0.0482,  0.0533,  0.0541,\n",
      "        0.0512,  0.0517,  0.0551,  0.0518,  0.0507,  0.0551,  0.0569,\n",
      "        0.0541,  0.058 ,  0.0632,  0.0634,  0.0663,  0.0735,  0.0754,\n",
      "        0.0766,  0.0825,  0.0872,  0.0848,  0.09  ,  0.0963,  0.0978,\n",
      "        0.0958,  0.1027,  0.1026,  0.0995,  0.1022,  0.1095,  0.1074,\n",
      "        0.1056,  0.1105,  0.1124,  0.1094,  0.1125,  0.1158,  0.1116,\n",
      "        0.1114,  0.1145,  0.1115,  0.107 ,  0.1092,  0.1087,  0.0989,\n",
      "        0.0987,  0.1044,  0.1005,  0.0951,  0.1005,  0.0992,  0.0912,\n",
      "        0.092 ,  0.0931,  0.087 ,  0.088 ,  0.0941,  0.0876]), 'Frequency': array([  0.05,   0.1 ,   0.2 ,   0.3 ,   0.4 ,   0.5 ,   0.6 ,   0.7 ,\n",
      "         0.8 ,   0.9 ,   1.  ,   1.1 ,   1.2 ,   1.3 ,   1.4 ,   1.5 ,\n",
      "         1.6 ,   1.7 ,   1.8 ,   1.9 ,   2.  ,   2.1 ,   2.2 ,   2.3 ,\n",
      "         2.4 ,   2.5 ,   2.6 ,   2.7 ,   2.8 ,   2.9 ,   3.  ,   3.1 ,\n",
      "         3.2 ,   3.3 ,   3.4 ,   3.5 ,   3.6 ,   3.7 ,   3.8 ,   3.9 ,\n",
      "         4.  ,   4.1 ,   4.2 ,   4.3 ,   4.4 ,   4.5 ,   4.6 ,   4.7 ,\n",
      "         4.8 ,   4.9 ,   5.  ,   5.1 ,   5.2 ,   5.3 ,   5.4 ,   5.5 ,\n",
      "         5.6 ,   5.7 ,   5.8 ,   5.9 ,   6.  ,   6.1 ,   6.2 ,   6.3 ,\n",
      "         6.4 ,   6.5 ,   6.6 ,   6.7 ,   6.8 ,   6.9 ,   7.  ,   7.1 ,\n",
      "         7.2 ,   7.3 ,   7.4 ,   7.5 ,   7.6 ,   7.7 ,   7.8 ,   7.9 ,\n",
      "         8.  ,   8.1 ,   8.2 ,   8.3 ,   8.4 ,   8.5 ,   8.6 ,   8.7 ,\n",
      "         8.8 ,   8.9 ,   9.  ,   9.1 ,   9.2 ,   9.3 ,   9.4 ,   9.5 ,\n",
      "         9.6 ,   9.7 ,   9.8 ,   9.9 ,  10.  ,  10.1 ,  10.2 ,  10.3 ,\n",
      "        10.4 ,  10.5 ,  10.6 ,  10.7 ,  10.8 ,  10.9 ,  11.  ,  11.1 ,\n",
      "        11.2 ,  11.3 ,  11.4 ,  11.5 ,  11.6 ,  11.7 ,  11.8 ,  11.9 ,\n",
      "        12.  ,  12.1 ,  12.2 ,  12.3 ,  12.4 ,  12.5 ,  12.6 ,  12.7 ,\n",
      "        12.8 ,  12.9 ,  13.  ,  13.1 ,  13.2 ,  13.3 ,  13.4 ,  13.5 ,\n",
      "        13.6 ,  13.7 ,  13.8 ,  13.9 ,  14.  ,  14.1 ,  14.2 ,  14.3 ,\n",
      "        14.4 ,  14.5 ,  14.6 ,  14.7 ,  14.8 ,  14.9 ,  15.  ,  15.1 ,\n",
      "        15.2 ,  15.3 ,  15.4 ,  15.5 ,  15.6 ,  15.7 ,  15.8 ,  15.9 ,\n",
      "        16.  ,  16.1 ,  16.2 ,  16.3 ,  16.4 ,  16.5 ,  16.6 ,  16.7 ,\n",
      "        16.8 ,  16.9 ,  17.  ,  17.1 ,  17.2 ,  17.3 ,  17.4 ,  17.5 ,\n",
      "        17.6 ,  17.7 ,  17.8 ,  17.9 ,  18.  ]), 'magS21': array([ 0.9943,  0.9934,  0.9935,  0.992 ,  0.9915,  0.9913,  0.9908,\n",
      "        0.9907,  0.9904,  0.9893,  0.9892,  0.9893,  0.989 ,  0.989 ,\n",
      "        0.9888,  0.9888,  0.9889,  0.9888,  0.9886,  0.9883,  0.9882,\n",
      "        0.9882,  0.9879,  0.9877,  0.9877,  0.9865,  0.9862,  0.9861,\n",
      "        0.9858,  0.9858,  0.9857,  0.9856,  0.9856,  0.9853,  0.9852,\n",
      "        0.9848,  0.9849,  0.9851,  0.9852,  0.9848,  0.9848,  0.9847,\n",
      "        0.9846,  0.9848,  0.9848,  0.9848,  0.9845,  0.9846,  0.9845,\n",
      "        0.9846,  0.9846,  0.9844,  0.9842,  0.984 ,  0.9838,  0.9837,\n",
      "        0.9836,  0.9835,  0.9835,  0.9834,  0.9831,  0.9828,  0.9828,\n",
      "        0.9824,  0.9826,  0.9825,  0.9823,  0.9821,  0.9821,  0.9818,\n",
      "        0.9818,  0.9813,  0.9812,  0.9809,  0.9809,  0.9808,  0.9806,\n",
      "        0.9805,  0.9802,  0.9801,  0.9797,  0.9798,  0.9793,  0.9792,\n",
      "        0.9789,  0.9787,  0.9786,  0.9787,  0.9785,  0.9786,  0.9782,\n",
      "        0.9779,  0.978 ,  0.9779,  0.9782,  0.9774,  0.9777,  0.9772,\n",
      "        0.9772,  0.9773,  0.9771,  0.9769,  0.977 ,  0.9768,  0.9768,\n",
      "        0.9768,  0.9771,  0.9772,  0.9769,  0.9772,  0.977 ,  0.9778,\n",
      "        0.9772,  0.9777,  0.9773,  0.9773,  0.9777,  0.9777,  0.977 ,\n",
      "        0.9776,  0.9772,  0.9771,  0.9771,  0.9775,  0.9773,  0.9759,\n",
      "        0.9765,  0.9768,  0.9763,  0.9761,  0.9764,  0.9752,  0.9757,\n",
      "        0.9759,  0.9751,  0.9744,  0.9747,  0.9735,  0.9729,  0.9737,\n",
      "        0.9732,  0.9725,  0.9711,  0.9723,  0.9716,  0.9716,  0.9704,\n",
      "        0.9713,  0.97  ,  0.9702,  0.9698,  0.9695,  0.9696,  0.9681,\n",
      "        0.9685,  0.9681,  0.9683,  0.9677,  0.9677,  0.9665,  0.9674,\n",
      "        0.9681,  0.9677,  0.9664,  0.9697,  0.9675,  0.9686,  0.9691,\n",
      "        0.9695,  0.967 ,  0.9664,  0.9677,  0.9664,  0.9665,  0.9672,\n",
      "        0.966 ,  0.9657,  0.9671,  0.9661,  0.9654,  0.9655]), 'magS22': array([ 0.0019,  0.0032,  0.0053,  0.0053,  0.0055,  0.0047,  0.0049,\n",
      "        0.0047,  0.0056,  0.006 ,  0.0074,  0.0081,  0.0096,  0.0103,\n",
      "        0.0115,  0.0121,  0.0135,  0.014 ,  0.0159,  0.0164,  0.0176,\n",
      "        0.0168,  0.0169,  0.0178,  0.0175,  0.0176,  0.0167,  0.0165,\n",
      "        0.0156,  0.0156,  0.0154,  0.0153,  0.0154,  0.0152,  0.0153,\n",
      "        0.0153,  0.0158,  0.0165,  0.0176,  0.0181,  0.0186,  0.0185,\n",
      "        0.0186,  0.0181,  0.018 ,  0.0173,  0.0181,  0.0189,  0.0201,\n",
      "        0.0215,  0.0231,  0.0249,  0.0263,  0.0284,  0.0291,  0.0308,\n",
      "        0.032 ,  0.0334,  0.0351,  0.0362,  0.0373,  0.0374,  0.0379,\n",
      "        0.0381,  0.0384,  0.0386,  0.0391,  0.0398,  0.0414,  0.0426,\n",
      "        0.0443,  0.0457,  0.0472,  0.0487,  0.0499,  0.0511,  0.0519,\n",
      "        0.0532,  0.0542,  0.0559,  0.0573,  0.0591,  0.0605,  0.0625,\n",
      "        0.0635,  0.0653,  0.0659,  0.0667,  0.0667,  0.0669,  0.0668,\n",
      "        0.0665,  0.0667,  0.0667,  0.067 ,  0.067 ,  0.0677,  0.0675,\n",
      "        0.068 ,  0.0673,  0.0674,  0.0667,  0.0674,  0.0672,  0.0679,\n",
      "        0.0675,  0.0668,  0.0654,  0.0634,  0.0612,  0.0582,  0.0556,\n",
      "        0.0528,  0.0512,  0.0499,  0.0503,  0.0501,  0.0505,  0.0502,\n",
      "        0.0515,  0.0518,  0.0531,  0.0539,  0.0548,  0.0562,  0.0565,\n",
      "        0.0576,  0.0575,  0.0585,  0.0584,  0.06  ,  0.0614,  0.0643,\n",
      "        0.0658,  0.0683,  0.0694,  0.0719,  0.0738,  0.0775,  0.081 ,\n",
      "        0.0844,  0.0876,  0.0901,  0.093 ,  0.0943,  0.0958,  0.0959,\n",
      "        0.0975,  0.0984,  0.1005,  0.1024,  0.1051,  0.1071,  0.109 ,\n",
      "        0.1095,  0.1087,  0.1079,  0.1065,  0.1062,  0.1049,  0.1046,\n",
      "        0.1026,  0.1017,  0.0986,  0.0969,  0.0934,  0.093 ,  0.0924,\n",
      "        0.0943,  0.0946,  0.0962,  0.0965,  0.097 ,  0.0968,  0.095 ,\n",
      "        0.0941,  0.092 ,  0.0907,  0.088 ,  0.0864,  0.0829])}\n"
     ]
    }
   ],
   "source": [
    "value_system = table_dictionary_system.convert_to_array_dictionary_system()\n",
    "print value_system['C00001']['HP8510']['9 Jul 2010']"
   ]
  },
  {
   "cell_type": "code",
   "execution_count": 4,
   "metadata": {
    "collapsed": true
   },
   "outputs": [],
   "source": [
    "value_system.interpolate_data(50,\"Frequency\",(\"magS11\",\"magS21\",\"magS22\"))"
   ]
  },
  {
   "cell_type": "code",
   "execution_count": 5,
   "metadata": {
    "collapsed": true
   },
   "outputs": [
    {
     "name": "stdout",
     "output_type": "stream",
     "text": [
      "{'magS11': array([ 0.0033    ,  0.00736304,  0.00928405,  0.01063239,  0.01233722,\n",
      "        0.01566226,  0.01799863,  0.01685461,  0.01691357,  0.01585622,\n",
      "        0.01666263,  0.018249  ,  0.01950178,  0.02283333,  0.02817063,\n",
      "        0.03241073,  0.0368146 ,  0.03997071,  0.04327572,  0.04647873,\n",
      "        0.05168433,  0.05491078,  0.05801981,  0.06039498,  0.06034677,\n",
      "        0.06136339,  0.06118101,  0.05988659,  0.05976199,  0.05926633,\n",
      "        0.05523439,  0.05410165,  0.05227602,  0.05255816,  0.05398118,\n",
      "        0.05304001,  0.0557661 ,  0.06341011,  0.07583975,  0.08579693,\n",
      "        0.09589862,  0.10048698,  0.10692963,  0.11260735,  0.11386037,\n",
      "        0.11007232,  0.10441855,  0.10089645,  0.09129624,  0.0876    ]), 'Frequency': array([  0.05      ,   0.41632653,   0.78265306,   1.14897959,\n",
      "         1.51530612,   1.88163265,   2.24795918,   2.61428571,\n",
      "         2.98061224,   3.34693878,   3.71326531,   4.07959184,\n",
      "         4.44591837,   4.8122449 ,   5.17857143,   5.54489796,\n",
      "         5.91122449,   6.27755102,   6.64387755,   7.01020408,\n",
      "         7.37653061,   7.74285714,   8.10918367,   8.4755102 ,\n",
      "         8.84183673,   9.20816327,   9.5744898 ,   9.94081633,\n",
      "        10.30714286,  10.67346939,  11.03979592,  11.40612245,\n",
      "        11.77244898,  12.13877551,  12.50510204,  12.87142857,\n",
      "        13.2377551 ,  13.60408163,  13.97040816,  14.33673469,\n",
      "        14.70306122,  15.06938776,  15.43571429,  15.80204082,\n",
      "        16.16836735,  16.53469388,  16.90102041,  17.26734694,\n",
      "        17.63367347,  18.        ]), 'magS21': array([ 0.9943    ,  0.99148495,  0.99052662,  0.98915398,  0.98881842,\n",
      "        0.98834785,  0.98774437,  0.98619939,  0.98572919,  0.98526223,\n",
      "        0.98513047,  0.98473529,  0.98482584,  0.98449903,  0.9842409 ,\n",
      "        0.98365958,  0.98337605,  0.98245866,  0.9821902 ,  0.98176718,\n",
      "        0.98088894,  0.98036724,  0.97977723,  0.97873958,  0.97854284,\n",
      "        0.97799228,  0.97763294,  0.97724835,  0.97679143,  0.97723544,\n",
      "        0.97733616,  0.97727549,  0.97709331,  0.97707828,  0.97587832,\n",
      "        0.97605256,  0.97590872,  0.97468344,  0.97341093,  0.97219179,\n",
      "        0.97129482,  0.96948851,  0.96842416,  0.96768365,  0.96808904,\n",
      "        0.96749674,  0.96697658,  0.96625134,  0.96619963,  0.9655    ]), 'magS22': array([ 0.0019    ,  0.00540925,  0.00545951,  0.00882673,  0.01229021,\n",
      "        0.01628133,  0.01740782,  0.01663721,  0.01545394,  0.01523261,\n",
      "        0.01663953,  0.01851421,  0.01762659,  0.02026666,  0.02593363,\n",
      "        0.03140698,  0.03633526,  0.03806235,  0.039322  ,  0.044462  ,\n",
      "        0.04961818,  0.05360905,  0.05923647,  0.06491267,  0.06675933,\n",
      "        0.06670642,  0.06757889,  0.06732618,  0.06722154,  0.06585223,\n",
      "        0.05714969,  0.0498851 ,  0.05017131,  0.05349357,  0.05654182,\n",
      "        0.05834872,  0.06492847,  0.07198777,  0.08338449,  0.09358261,\n",
      "        0.09753947,  0.10428472,  0.10927551,  0.1061822 ,  0.1021255 ,\n",
      "        0.0930058 ,  0.09460855,  0.09707789,  0.09156039,  0.0829    ])}\n"
     ]
    }
   ],
   "source": [
    "print value_system['C00001']['HP8510']['9 Jul 2010']"
   ]
  },
  {
   "cell_type": "code",
   "execution_count": 6,
   "metadata": {
    "collapsed": true
   },
   "outputs": [
    {
     "name": "stdout",
     "output_type": "stream",
     "text": [
      "0 fake datasets have been created!\n",
      "20 fake datasets have been created!\n",
      "40 fake datasets have been created!\n",
      "60 fake datasets have been created!\n",
      "80 fake datasets have been created!\n",
      "100 fake datasets have been created!\n",
      "120 fake datasets have been created!\n",
      "140 fake datasets have been created!\n",
      "160 fake datasets have been created!\n",
      "180 fake datasets have been created!\n",
      "[ 0.0297697   0.0343153   0.03496416  0.03525151  0.03596795  0.03767138\n",
      "  0.03682317  0.03426313  0.03347307  0.03057395  0.02604278  0.02170726\n",
      "  0.01764145  0.01230748  0.00974073  0.01119139  0.01669656  0.02517526\n",
      "  0.03626209  0.04519893  0.05323348  0.05945538  0.0630358   0.06608236\n",
      "  0.06543751  0.06511168  0.05978752  0.05448813  0.04532546  0.03407468\n",
      "  0.02455441  0.02027697  0.02296284  0.03293096  0.04823664  0.06701637\n",
      "  0.0865059   0.10839126  0.12735033  0.14438916  0.15775255  0.1652337\n",
      "  0.16725871  0.16122038  0.14832862  0.13004372  0.10844154  0.08570901\n",
      "  0.06571041  0.04737794]\n"
     ]
    }
   ],
   "source": [
    "fake_data_system = value_system.make_fake_data_system(\"Frequency\",\n",
    "                                                      (\"magS11\",\"magS21\",\"magS22\"),\n",
    "                                                      200,\n",
    "                                                      (\"CTN210\",\"System 2,7\"),\n",
    "                                                      (0.0005,0.0001,0.0005),\n",
    "                                                     progress_printing=True)\n",
    "print fake_data_system[\"Fake Dataset 123\"]['magS11']"
   ]
  },
  {
   "cell_type": "code",
   "execution_count": 7,
   "metadata": {
    "collapsed": true
   },
   "outputs": [
    {
     "name": "stdout",
     "output_type": "stream",
     "text": [
      "[ 0.03046516  0.03264944  0.03395778  0.03612163  0.03639054  0.03682283\n",
      "  0.03604025  0.03450511  0.03346804  0.03124351  0.02857468  0.02320825\n",
      "  0.01785842  0.01084814  0.00738044  0.00876807  0.01671495  0.026088\n",
      "  0.03484255  0.04454648  0.05313205  0.05924085  0.06462651  0.06513096\n",
      "  0.06620021  0.06520979  0.06087979  0.05431458  0.0482071   0.03822942\n",
      "  0.02673089  0.01926691  0.01969177  0.03174552  0.04980448  0.06811636\n",
      "  0.08930824  0.11065551  0.13072687  0.14761646  0.159507    0.16724098\n",
      "  0.16785447  0.16246834  0.15147769  0.13251523  0.10677334  0.07663279\n",
      "  0.05194829  0.04704249]\n",
      "[ 0.03046516  0.03264944  0.03395778  0.03612163  0.03639054  0.03682283\n",
      "  0.03604025  0.03450511  0.03346804  0.03124351  0.02857468  0.02320825\n",
      "  0.01785842  0.01084814  0.00738044  0.00876807  0.01671495  0.026088\n",
      "  0.03484255  0.04454648  0.05313205  0.05924085  0.06462651  0.06513096\n",
      "  0.06620021  0.06520979  0.06087979  0.05431458  0.0482071   0.03822942\n",
      "  0.02673089  0.01926691  0.01969177  0.03174552  0.04980448  0.06811636\n",
      "  0.08930824  0.11065551  0.13072687  0.14761646  0.159507    0.16724098\n",
      "  0.16785447  0.16246834  0.15147769  0.13251523  0.10677334  0.07663279\n",
      "  0.05194829  0.04704249]\n"
     ]
    }
   ],
   "source": [
    "magS11_arr = fake_data_system.get_dataset_variable_values(\"magS11\")\n",
    "print magS11_arr[0]\n",
    "print fake_data_system.values()[0][\"magS11\"]"
   ]
  },
  {
   "cell_type": "code",
   "execution_count": 8,
   "metadata": {
    "collapsed": true
   },
   "outputs": [],
   "source": [
    "frequency_arr = fake_data_system.get_dataset_variable_values(\"Frequency\")"
   ]
  },
  {
   "cell_type": "code",
   "execution_count": 9,
   "metadata": {
    "collapsed": true
   },
   "outputs": [],
   "source": [
    "plot_variable_array(frequency_arr,magS11_arr,num_lines=50)"
   ]
  },
  {
   "cell_type": "code",
   "execution_count": 10,
   "metadata": {},
   "outputs": [
    {
     "data": {
      "image/png": "[encoded data removed]",
      "text/plain": [
       "<matplotlib.figure.Figure at 0xc9267b8>"
      ]
     },
     "metadata": {},
     "output_type": "display_data"
    }
   ],
   "source": [
    "plt.show()"
   ]
  }
 ],
 "metadata": {
  "kernelspec": {
   "display_name": "Python 2",
   "language": "python",
   "name": "python2"
  },
  "language_info": {
   "codemirror_mode": {
    "name": "ipython",
    "version": 2
   },
   "file_extension": ".py",
   "mimetype": "text/x-python",
   "name": "python",
   "nbconvert_exporter": "python",
   "pygments_lexer": "ipython2",
   "version": "2.7.13"
  }
 },
 "nbformat": 4,
 "nbformat_minor": 2
}

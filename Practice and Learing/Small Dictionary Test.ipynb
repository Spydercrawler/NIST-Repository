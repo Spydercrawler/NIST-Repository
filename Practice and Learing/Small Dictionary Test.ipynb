{
 "cells": [
  {
   "cell_type": "code",
   "execution_count": 1,
   "metadata": {
    "collapsed": true
   },
   "outputs": [],
   "source": [
    "import numpy as np"
   ]
  },
  {
   "cell_type": "code",
   "execution_count": 2,
   "metadata": {
    "collapsed": true
   },
   "outputs": [],
   "source": [
    "dict1 = {\n",
    "    \"Thing1\" : np.array([1,2,3,4,5]),\n",
    "    \"Thing2\" : np.array([6,7,8,9,10]),\n",
    "    \"Thing3\" : np.array([0.1,0.2,0.3,0.4,0.5]),\n",
    "    \"Thing4\" : np.array([9,8,7,6,5])\n",
    "}"
   ]
  },
  {
   "cell_type": "code",
   "execution_count": 6,
   "metadata": {},
   "outputs": [
    {
     "name": "stdout",
     "output_type": "stream",
     "text": [
      "[array([ 6,  7,  8,  9, 10]), array([ 0.1,  0.2,  0.3,  0.4,  0.5]), array([9, 8, 7, 6, 5])]\n"
     ]
    }
   ],
   "source": [
    "print [dict1[x] for x in [\"Thing2\",\"Thing3\",\"Thing4\"]]"
   ]
  },
  {
   "cell_type": "code",
   "execution_count": null,
   "metadata": {
    "collapsed": true
   },
   "outputs": [],
   "source": []
  }
 ],
 "metadata": {
  "kernelspec": {
   "display_name": "Python 2",
   "language": "python",
   "name": "python2"
  },
  "language_info": {
   "codemirror_mode": {
    "name": "ipython",
    "version": 2
   },
   "file_extension": ".py",
   "mimetype": "text/x-python",
   "name": "python",
   "nbconvert_exporter": "python",
   "pygments_lexer": "ipython2",
   "version": "2.7.13"
  }
 },
 "nbformat": 4,
 "nbformat_minor": 2
}

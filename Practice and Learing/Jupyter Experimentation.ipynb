{
 "cells": [
  {
   "cell_type": "code",
   "execution_count": 42,
   "metadata": {},
   "outputs": [
    {
     "data": {
      "application/vnd.jupyter.widget-view+json": {
       "model_id": "08f33cd8223c4ca692ced64f6287f9cb"
      }
     },
     "metadata": {},
     "output_type": "display_data"
    },
    {
     "data": {
      "text/plain": [
       "<function __main__.graphfall>"
      ]
     },
     "execution_count": 42,
     "metadata": {},
     "output_type": "execute_result"
    }
   ],
   "source": [
    "import matplotlib.pyplot as plt\n",
    "%matplotlib inline\n",
    "from ipywidgets import *\n",
    "import numpy as np\n",
    "import sys\n",
    "\n",
    "def graphfall(x,y,xvel,yvel,seconds,groundheight,bouncecoefficient):\n",
    "    lst = np.linspace(0,seconds,1000)\n",
    "    xpoints =[]\n",
    "    ypoints = []\n",
    "    yb = y\n",
    "    nt = 0\n",
    "    lstdiff = lst[1]-lst[0]\n",
    "    for i,t in enumerate(lst):\n",
    "        nx=x + (xvel*t)\n",
    "        ny=yb + (yvel*nt) + (0.5 * -9.8 * nt * nt)\n",
    "        if groundheight >=ny:\n",
    "            ny=groundheight+(groundheight-ny)\n",
    "            yvel = abs(yvel*-9.8*nt)*bouncecoefficient\n",
    "            nt = 0\n",
    "            yb = ny\n",
    "        xpoints.append(nx)\n",
    "        ypoints.append(ny)\n",
    "        nt+=lstdiff\n",
    "    plt.plot(xpoints,ypoints)\n",
    "    plt.plot(np.linspace(xpoints[0],xpoints[len(xpoints)-1],1000),np.repeat(groundheight,1000),\"r\")\n",
    "    plt.show()\n",
    "\n",
    "xslider = widgets.IntSlider(min=0,max=30,step=1,value=10)\n",
    "yslider = widgets.IntSlider(min=0,max=30,step=1,value=10)\n",
    "xvelslider = widgets.IntSlider(min=-15,max=15,step=1,value=0)\n",
    "yvelslider = widgets.IntSlider(min=-15,max=15,step=1,value=0)\n",
    "secondsslider = widgets.IntSlider(min=1,max=100,step=1,value=100)\n",
    "groundheightslider = widgets.IntSlider(min=-10, max=10,step=1,value=0)\n",
    "bouncecoefficientslider = widgets.FloatSlider(min=0.01, max=1.0,step=0.01,value=0.5)\n",
    "interact(graphfall, x=xslider, y=yslider, xvel=xvelslider, yvel=yvelslider, seconds = secondsslider, groundheight=groundheightslider, bouncecoefficient=bouncecoefficientslider)"
   ]
  },
  {
   "cell_type": "code",
   "execution_count": 43,
   "metadata": {},
   "outputs": [
    {
     "data": {
      "text/html": [
       "<img src=\"https://www.cesarsway.com/sites/newcesarsway/files/styles/large_article_preview/public/Common-dog-behaviors-explained.jpg?itok=FSzwbBoi\"/>"
      ],
      "text/plain": [
       "<IPython.core.display.Image object>"
      ]
     },
     "execution_count": 43,
     "metadata": {},
     "output_type": "execute_result"
    }
   ],
   "source": [
    "from IPython.display import Image\n",
    "from IPython.core.display import HTML \n",
    "Image(url= \"https://www.cesarsway.com/sites/newcesarsway/files/styles/large_article_preview/public/Common-dog-behaviors-explained.jpg?itok=FSzwbBoi\")"
   ]
  }
 ],
 "metadata": {
  "kernelspec": {
   "display_name": "Python 2",
   "language": "python",
   "name": "python2"
  },
  "language_info": {
   "codemirror_mode": {
    "name": "ipython",
    "version": 2
   },
   "file_extension": ".py",
   "mimetype": "text/x-python",
   "name": "python",
   "nbconvert_exporter": "python",
   "pygments_lexer": "ipython2",
   "version": "2.7.13"
  }
 },
 "nbformat": 4,
 "nbformat_minor": 2
}

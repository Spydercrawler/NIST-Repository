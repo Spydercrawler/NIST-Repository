{
 "cells": [
  {
   "cell_type": "code",
   "execution_count": 1,
   "metadata": {
    "collapsed": true
   },
   "outputs": [],
   "source": [
    "import pandas as pd\n",
    "import numpy as np"
   ]
  },
  {
   "cell_type": "code",
   "execution_count": 3,
   "metadata": {},
   "outputs": [
    {
     "data": {
      "text/plain": [
       "0    1.0\n",
       "1    2.0\n",
       "2    7.0\n",
       "3    9.0\n",
       "4    NaN\n",
       "5    2.0\n",
       "dtype: float64"
      ]
     },
     "execution_count": 3,
     "metadata": {},
     "output_type": "execute_result"
    }
   ],
   "source": [
    "s = pd.Series([1,2,7,9, np.nan,2])\n",
    "s"
   ]
  },
  {
   "cell_type": "code",
   "execution_count": 7,
   "metadata": {},
   "outputs": [
    {
     "data": {
      "text/plain": [
       "DatetimeIndex(['2017-06-20', '2017-06-21', '2017-06-22', '2017-06-23',\n",
       "               '2017-06-24', '2017-06-25', '2017-06-26'],\n",
       "              dtype='datetime64[ns]', freq='D')"
      ]
     },
     "execution_count": 7,
     "metadata": {},
     "output_type": "execute_result"
    }
   ],
   "source": [
    "dates = pd.date_range('6/20/2017',periods=7)\n",
    "dates"
   ]
  },
  {
   "cell_type": "code",
   "execution_count": 8,
   "metadata": {},
   "outputs": [
    {
     "data": {
      "text/html": [
       "<div>\n",
       "<style>\n",
       "    .dataframe thead tr:only-child th {\n",
       "        text-align: right;\n",
       "    }\n",
       "\n",
       "    .dataframe thead th {\n",
       "        text-align: left;\n",
       "    }\n",
       "\n",
       "    .dataframe tbody tr th {\n",
       "        vertical-align: top;\n",
       "    }\n",
       "</style>\n",
       "<table border=\"1\" class=\"dataframe\">\n",
       "  <thead>\n",
       "    <tr style=\"text-align: right;\">\n",
       "      <th></th>\n",
       "      <th>A</th>\n",
       "      <th>B</th>\n",
       "      <th>C</th>\n",
       "      <th>D</th>\n",
       "    </tr>\n",
       "  </thead>\n",
       "  <tbody>\n",
       "    <tr>\n",
       "      <th>2017-06-20</th>\n",
       "      <td>0.628819</td>\n",
       "      <td>1.096635</td>\n",
       "      <td>0.300309</td>\n",
       "      <td>0.073086</td>\n",
       "    </tr>\n",
       "    <tr>\n",
       "      <th>2017-06-21</th>\n",
       "      <td>0.191053</td>\n",
       "      <td>-0.646978</td>\n",
       "      <td>-0.412702</td>\n",
       "      <td>0.088614</td>\n",
       "    </tr>\n",
       "    <tr>\n",
       "      <th>2017-06-22</th>\n",
       "      <td>1.067190</td>\n",
       "      <td>0.111592</td>\n",
       "      <td>1.587747</td>\n",
       "      <td>0.096650</td>\n",
       "    </tr>\n",
       "    <tr>\n",
       "      <th>2017-06-23</th>\n",
       "      <td>0.907350</td>\n",
       "      <td>0.387337</td>\n",
       "      <td>-0.628237</td>\n",
       "      <td>0.996679</td>\n",
       "    </tr>\n",
       "    <tr>\n",
       "      <th>2017-06-24</th>\n",
       "      <td>1.463700</td>\n",
       "      <td>-1.393691</td>\n",
       "      <td>0.532242</td>\n",
       "      <td>-0.054026</td>\n",
       "    </tr>\n",
       "    <tr>\n",
       "      <th>2017-06-25</th>\n",
       "      <td>1.088259</td>\n",
       "      <td>0.116078</td>\n",
       "      <td>0.380546</td>\n",
       "      <td>-0.773378</td>\n",
       "    </tr>\n",
       "    <tr>\n",
       "      <th>2017-06-26</th>\n",
       "      <td>-0.560111</td>\n",
       "      <td>-0.011258</td>\n",
       "      <td>-0.549035</td>\n",
       "      <td>0.313024</td>\n",
       "    </tr>\n",
       "  </tbody>\n",
       "</table>\n",
       "</div>"
      ],
      "text/plain": [
       "                   A         B         C         D\n",
       "2017-06-20  0.628819  1.096635  0.300309  0.073086\n",
       "2017-06-21  0.191053 -0.646978 -0.412702  0.088614\n",
       "2017-06-22  1.067190  0.111592  1.587747  0.096650\n",
       "2017-06-23  0.907350  0.387337 -0.628237  0.996679\n",
       "2017-06-24  1.463700 -1.393691  0.532242 -0.054026\n",
       "2017-06-25  1.088259  0.116078  0.380546 -0.773378\n",
       "2017-06-26 -0.560111 -0.011258 -0.549035  0.313024"
      ]
     },
     "execution_count": 8,
     "metadata": {},
     "output_type": "execute_result"
    }
   ],
   "source": [
    "df = pd.DataFrame(np.random.randn(7,4),index=dates,columns=list('ABCD'))\n",
    "df"
   ]
  },
  {
   "cell_type": "code",
   "execution_count": 9,
   "metadata": {},
   "outputs": [
    {
     "data": {
      "text/html": [
       "<div>\n",
       "<style>\n",
       "    .dataframe thead tr:only-child th {\n",
       "        text-align: right;\n",
       "    }\n",
       "\n",
       "    .dataframe thead th {\n",
       "        text-align: left;\n",
       "    }\n",
       "\n",
       "    .dataframe tbody tr th {\n",
       "        vertical-align: top;\n",
       "    }\n",
       "</style>\n",
       "<table border=\"1\" class=\"dataframe\">\n",
       "  <thead>\n",
       "    <tr style=\"text-align: right;\">\n",
       "      <th></th>\n",
       "      <th>A</th>\n",
       "      <th>B</th>\n",
       "      <th>C</th>\n",
       "      <th>D</th>\n",
       "    </tr>\n",
       "  </thead>\n",
       "  <tbody>\n",
       "    <tr>\n",
       "      <th>2017-06-20</th>\n",
       "      <td>0.628819</td>\n",
       "      <td>1.096635</td>\n",
       "      <td>0.300309</td>\n",
       "      <td>0.073086</td>\n",
       "    </tr>\n",
       "    <tr>\n",
       "      <th>2017-06-21</th>\n",
       "      <td>0.191053</td>\n",
       "      <td>-0.646978</td>\n",
       "      <td>-0.412702</td>\n",
       "      <td>0.088614</td>\n",
       "    </tr>\n",
       "    <tr>\n",
       "      <th>2017-06-22</th>\n",
       "      <td>1.067190</td>\n",
       "      <td>0.111592</td>\n",
       "      <td>1.587747</td>\n",
       "      <td>0.096650</td>\n",
       "    </tr>\n",
       "    <tr>\n",
       "      <th>2017-06-23</th>\n",
       "      <td>0.907350</td>\n",
       "      <td>0.387337</td>\n",
       "      <td>-0.628237</td>\n",
       "      <td>0.996679</td>\n",
       "    </tr>\n",
       "    <tr>\n",
       "      <th>2017-06-24</th>\n",
       "      <td>1.463700</td>\n",
       "      <td>-1.393691</td>\n",
       "      <td>0.532242</td>\n",
       "      <td>-0.054026</td>\n",
       "    </tr>\n",
       "  </tbody>\n",
       "</table>\n",
       "</div>"
      ],
      "text/plain": [
       "                   A         B         C         D\n",
       "2017-06-20  0.628819  1.096635  0.300309  0.073086\n",
       "2017-06-21  0.191053 -0.646978 -0.412702  0.088614\n",
       "2017-06-22  1.067190  0.111592  1.587747  0.096650\n",
       "2017-06-23  0.907350  0.387337 -0.628237  0.996679\n",
       "2017-06-24  1.463700 -1.393691  0.532242 -0.054026"
      ]
     },
     "execution_count": 9,
     "metadata": {},
     "output_type": "execute_result"
    }
   ],
   "source": [
    "df.head()"
   ]
  },
  {
   "cell_type": "code",
   "execution_count": 10,
   "metadata": {},
   "outputs": [
    {
     "data": {
      "text/html": [
       "<div>\n",
       "<style>\n",
       "    .dataframe thead tr:only-child th {\n",
       "        text-align: right;\n",
       "    }\n",
       "\n",
       "    .dataframe thead th {\n",
       "        text-align: left;\n",
       "    }\n",
       "\n",
       "    .dataframe tbody tr th {\n",
       "        vertical-align: top;\n",
       "    }\n",
       "</style>\n",
       "<table border=\"1\" class=\"dataframe\">\n",
       "  <thead>\n",
       "    <tr style=\"text-align: right;\">\n",
       "      <th></th>\n",
       "      <th>A</th>\n",
       "      <th>B</th>\n",
       "      <th>C</th>\n",
       "      <th>D</th>\n",
       "    </tr>\n",
       "  </thead>\n",
       "  <tbody>\n",
       "    <tr>\n",
       "      <th>2017-06-24</th>\n",
       "      <td>1.463700</td>\n",
       "      <td>-1.393691</td>\n",
       "      <td>0.532242</td>\n",
       "      <td>-0.054026</td>\n",
       "    </tr>\n",
       "    <tr>\n",
       "      <th>2017-06-25</th>\n",
       "      <td>1.088259</td>\n",
       "      <td>0.116078</td>\n",
       "      <td>0.380546</td>\n",
       "      <td>-0.773378</td>\n",
       "    </tr>\n",
       "    <tr>\n",
       "      <th>2017-06-26</th>\n",
       "      <td>-0.560111</td>\n",
       "      <td>-0.011258</td>\n",
       "      <td>-0.549035</td>\n",
       "      <td>0.313024</td>\n",
       "    </tr>\n",
       "  </tbody>\n",
       "</table>\n",
       "</div>"
      ],
      "text/plain": [
       "                   A         B         C         D\n",
       "2017-06-24  1.463700 -1.393691  0.532242 -0.054026\n",
       "2017-06-25  1.088259  0.116078  0.380546 -0.773378\n",
       "2017-06-26 -0.560111 -0.011258 -0.549035  0.313024"
      ]
     },
     "execution_count": 10,
     "metadata": {},
     "output_type": "execute_result"
    }
   ],
   "source": [
    "df.tail(3)"
   ]
  },
  {
   "cell_type": "code",
   "execution_count": 11,
   "metadata": {},
   "outputs": [
    {
     "data": {
      "text/plain": [
       "2017-06-20    0.628819\n",
       "2017-06-21    0.191053\n",
       "2017-06-22    1.067190\n",
       "2017-06-23    0.907350\n",
       "2017-06-24    1.463700\n",
       "2017-06-25    1.088259\n",
       "2017-06-26   -0.560111\n",
       "Freq: D, Name: A, dtype: float64"
      ]
     },
     "execution_count": 11,
     "metadata": {},
     "output_type": "execute_result"
    }
   ],
   "source": [
    "df['A']"
   ]
  },
  {
   "cell_type": "code",
   "execution_count": 12,
   "metadata": {},
   "outputs": [
    {
     "data": {
      "text/plain": [
       "array([ 0.62881901,  0.19105282,  1.06719043,  0.90735019,  1.46369995,\n",
       "        1.08825855, -0.56011116])"
      ]
     },
     "execution_count": 12,
     "metadata": {},
     "output_type": "execute_result"
    }
   ],
   "source": [
    "df['A'].values"
   ]
  }
 ],
 "metadata": {
  "kernelspec": {
   "display_name": "Python 2",
   "language": "python",
   "name": "python2"
  },
  "language_info": {
   "codemirror_mode": {
    "name": "ipython",
    "version": 2
   },
   "file_extension": ".py",
   "mimetype": "text/x-python",
   "name": "python",
   "nbconvert_exporter": "python",
   "pygments_lexer": "ipython2",
   "version": "2.7.13"
  }
 },
 "nbformat": 4,
 "nbformat_minor": 2
}

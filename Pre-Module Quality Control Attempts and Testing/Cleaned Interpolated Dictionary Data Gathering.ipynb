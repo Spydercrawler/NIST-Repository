{
 "cells": [
  {
   "cell_type": "code",
   "execution_count": 1,
   "metadata": {
    "collapsed": true
   },
   "outputs": [],
   "source": [
    "import pandas as pd\n",
    "import numpy as np\n",
    "from sklearn.externals import joblib"
   ]
  },
  {
   "cell_type": "code",
   "execution_count": 2,
   "metadata": {
    "collapsed": true
   },
   "outputs": [],
   "source": [
    "datadict = joblib.load(\"Two_Port_Standard_Dictionary_Cleaned_Interpolated.pkl\")"
   ]
  },
  {
   "cell_type": "code",
   "execution_count": 7,
   "metadata": {
    "collapsed": true
   },
   "outputs": [],
   "source": [
    "dataset_count = 0\n",
    "datasets_per_system_device_pair = []\n",
    "lengths_of_datasets = []\n",
    "for dkey in datadict.keys():\n",
    "    for skey in datadict[dkey].keys():\n",
    "        dataset_count += len(datadict[dkey][skey].keys())\n",
    "        datasets_per_system_device_pair.append(len(datadict[dkey][skey].keys()))\n",
    "dsets_per_sys_device_pair_avg = sum(datasets_per_system_device_pair) / float(len(datasets_per_system_device_pair))"
   ]
  },
  {
   "cell_type": "code",
   "execution_count": 8,
   "metadata": {},
   "outputs": [
    {
     "name": "stdout",
     "output_type": "stream",
     "text": [
      "Dataset count: 1575\n",
      "System-device pair count: 196\n",
      "Average datasets per system-device pair: 8.03571428571\n"
     ]
    }
   ],
   "source": [
    "print \"Dataset count: \" + str(dataset_count)\n",
    "print \"System-device pair count: \" + str(len(datasets_per_system_device_pair))\n",
    "print \"Average datasets per system-device pair: \" + str(dsets_per_sys_device_pair_avg)"
   ]
  }
 ],
 "metadata": {
  "kernelspec": {
   "display_name": "Python 2",
   "language": "python",
   "name": "python2"
  },
  "language_info": {
   "codemirror_mode": {
    "name": "ipython",
    "version": 2
   },
   "file_extension": ".py",
   "mimetype": "text/x-python",
   "name": "python",
   "nbconvert_exporter": "python",
   "pygments_lexer": "ipython2",
   "version": "2.7.13"
  }
 },
 "nbformat": 4,
 "nbformat_minor": 2
}

{
 "cells": [
  {
   "cell_type": "code",
   "execution_count": 12,
   "metadata": {
    "collapsed": true
   },
   "outputs": [],
   "source": [
    "import pandas as pd\n",
    "import numpy as np\n",
    "import scipy as sp\n",
    "from scipy import interpolate\n",
    "import matplotlib.pyplot as plt"
   ]
  },
  {
   "cell_type": "code",
   "execution_count": 13,
   "metadata": {},
   "outputs": [],
   "source": [
    "class DataProcessor:\n",
    "    independentvar=[]\n",
    "    dependentvars=[]\n",
    "    dependentvarsifunctions=[]\n",
    "    hasbeeninterpolated=False\n",
    "    def load_data(self,path,ivarname,dvarnames,toprow,bottomrow):\n",
    "        \"\"\"Call this method if you want to get your data from a csv file.\"\"\"\n",
    "        df = pd.read_csv(path)\n",
    "        self.independentvar = df[ivarname].values[toprow:bottomrow]\n",
    "        for n in dvarnames:\n",
    "            self.dependentvars.append(df[n].values[toprow:bottomrow].tolist())\n",
    "    def set_data(self,ivar,dvars):\n",
    "        \"\"\"Call this method if you want to set your data manually.\"\"\"\n",
    "        for lst in dvars:\n",
    "            if len(ivar) != len(lst):\n",
    "                raise ValueError(\"Lengths of all dependent variable lists must be the same size as the independent variable list!\")\n",
    "        if isinstance(dvars,np.ndarray):\n",
    "            dvars = dvars.tolist()\n",
    "        for (i,lst) in enumerate(dvars):\n",
    "            if isinstance(lst,np.ndarray):\n",
    "                dvars[i] = lst.tolist()\n",
    "        self.independentvar = ivar\n",
    "        self.dependentvars = dvars\n",
    "    def plot_values(self,name=\"\",axis=\"off\"):\n",
    "        \"\"\"This method plots your data using pyplot.\"\"\"\n",
    "        plt.title(name)\n",
    "        plt.axis(axis)\n",
    "        for lst in self.dependentvars:\n",
    "            plt.plot(self.independentvar,lst)\n",
    "        plt.show()\n",
    "    def create_interpolation_functions(self):\n",
    "        \"\"\"This method creates interpolation functions for each of the dependent variables. \n",
    "        It is required for any other interpolation methods.\"\"\"\n",
    "        if(len(self.independentvar) == len(set(self.independentvar))):\n",
    "            for lst in self.dependentvars:\n",
    "                self.dependentvarsifunctions.append(interpolate.interp1d(self.independentvar,lst))\n",
    "            self.hasbeeninterpolated = True\n",
    "        else:\n",
    "            raise ValueError(\"Repeat X Values Detected within dataset!\")\n",
    "    def get_interpolated_dataprocessor(self,values=0,ivals = None):\n",
    "        \"\"\"This returns a new, interpolated DataProcessor as long as the current dataprocessor has called\n",
    "        create_interpolation_functions at least once with the current dependent variable set. \n",
    "        If that method hasn't been called, this method will throw an error.\"\"\"\n",
    "        if(self.hasbeeninterpolated == True):\n",
    "            ndependents=[]\n",
    "            if ivals != None:\n",
    "                ndependents = [self.dependentvarsifunctions[i](ivals) for i in range(len(self.dependentvarsifunctions))]\n",
    "                dp2 = DataProcessor()\n",
    "                dp2.set_data(ivals,ndependents)\n",
    "                return dp2\n",
    "            elif values != 0:\n",
    "                thing=np.linspace(self.independentvar.min(),self.independentvar.max(),values)\n",
    "                ndependents = [self.dependentvarsifunctions[i](thing) for i in range(len(self.dependentvarsifunctions))]\n",
    "                dp2 = DataProcessor()\n",
    "                dp2.set_data(thing,ndependents)\n",
    "                return dp2\n",
    "        else:\n",
    "            raise AttributeError(\"Interpolation functions have not been created!\")\n",
    "    def get_interpolated_dependents(self,values = 0,ivals = None):\n",
    "        \"\"\"This returns a new dependent variable list as long as the current dataprocessor has called\n",
    "        create_interpolation_functions at least once with the current dependent variable set. \n",
    "        If that method hasn't been called, this method will throw an error.\"\"\"\n",
    "        if(self.hasbeeninterpolated == True):\n",
    "            if ivals != None:\n",
    "                ndependents = [self.dependentvarsifunctions[i](ivals) for i in range(len(self.dependentvarsifunctions))]\n",
    "                return ndependents\n",
    "            elif values != 0:\n",
    "                thing=np.linspace(self.independentvar.min(),self.independentvar.max(),values)\n",
    "                ndependents = [self.dependentvarsifunctions[i](thing) for i in range(len(self.dependentvarsifunctions))]\n",
    "                return ndependents\n",
    "        else:\n",
    "            raise AttributeError(\"Interpolation functions have not been created!\")\n",
    "    def keep_only_nth_indexes(self,n):\n",
    "        \"\"\"This goes through the DataProcessor's arrays and keeps only the nth indexes in all of \n",
    "        the DataProcessor's vvariable-containing arrays\"\"\"\n",
    "        self.independentvar = self.independentvar[::n]\n",
    "        for i in range(len(self.dependentvars)):\n",
    "            self.dependentvars[i] = self.dependentvars[i][::n]\n",
    "    def remove_nth_indexes(self,n):\n",
    "        \"\"\"This goes through the DataProcessor's arrays and removes the nth indexes in all of \n",
    "        the DataProcessor's variable-containing arrays\"\"\"\n",
    "        tmplst = self.independentvar.tolist()\n",
    "        del tmplst[::n]\n",
    "        self.independentvar = np.array(tmplst)\n",
    "        for i in range(len(self.dependentvars)):\n",
    "            del self.dependentvars[i][::n]\n",
    "    def remove_specific_index(self,n):\n",
    "        \"\"\"This removes a specific index from all of the DataProcessor's variable-containing arrays\"\"\"\n",
    "        tmplst = self.independentvar.tolist()\n",
    "        del tmplst[n]\n",
    "        self.independentvar = np.array(tmplst)\n",
    "        for i in range(len(self.dependentvars)):\n",
    "            del self.dependentvars[i][n]\n",
    "    def remove_index_range(self,minindex,maxindex):\n",
    "        \"\"\"This removes a range of indexes from all of the DataProcessor's variable-containing arrays\"\"\"\n",
    "        self.independentvar = np.append(self.independentvar[:minindex],self.independentvar[maxindex:])\n",
    "        for i in range(len(self.dependentvars)):\n",
    "            del self.dependentvars[i][minindex:maxindex]\n",
    "    def add_new_dependent_var(self,ndvar):\n",
    "        if len(self.independentvar) != len(ndvar):\n",
    "            raise ValueError(\"Lengths of dependent variable list must be the same size as the independent variable list!\")\n",
    "        if isinstance(ndvar, np.ndarray):\n",
    "            self.dependentvars.append(ndvar).tolist()\n",
    "        elif isinstance(ndvar, list):\n",
    "            self.dependentvars.append(ndvar)\n",
    "        self.dependentvarsifunctions=[]\n",
    "        self.hasbeeninterpolated=False"
   ]
  },
  {
   "cell_type": "code",
   "execution_count": 14,
   "metadata": {},
   "outputs": [],
   "source": [
    "dp = DataProcessor()\n",
    "dp.load_data('../Combined_Two_Port_Check_Standard.csv',\n",
    "             \"Frequency\",\n",
    "             [\"magS11\",\"magS21\",\"magS22\"],\n",
    "             0,\n",
    "             543)"
   ]
  },
  {
   "cell_type": "code",
   "execution_count": 15,
   "metadata": {},
   "outputs": [
    {
     "name": "stdout",
     "output_type": "stream",
     "text": [
      "[  0.05   0.1    0.2    0.3    0.4    0.5    0.6    0.7    0.8    0.9    1.\n",
      "   1.1    1.2    1.3    1.4    1.5    1.6    1.7    1.8    1.9    2.     2.1\n",
      "   2.2    2.3    2.4    2.5    2.6    2.7    2.8    2.9    3.     3.1    3.2\n",
      "   3.3    3.4    3.5    3.6    3.7    3.8    3.9    4.     4.1    4.2    4.3\n",
      "   4.4    4.5    4.6    4.7    4.8    4.9    5.     5.1    5.2    5.3    5.4\n",
      "   5.5    5.6    5.7    5.8    5.9    6.     6.1    6.2    6.3    6.4    6.5\n",
      "   6.6    6.7    6.8    6.9    7.     7.1    7.2    7.3    7.4    7.5    7.6\n",
      "   7.7    7.8    7.9    8.     8.1    8.2    8.3    8.4    8.5    8.6    8.7\n",
      "   8.8    8.9    9.     9.1    9.2    9.3    9.4    9.5    9.6    9.7    9.8\n",
      "   9.9   10.    10.1   10.2   10.3   10.4   10.5   10.6   10.7   10.8   10.9\n",
      "  11.    11.1   11.2   11.3   11.4   11.5   11.6   11.7   11.8   11.9   12.\n",
      "  12.1   12.2   12.3   12.4   12.5   12.6   12.7   12.8   12.9   13.    13.1\n",
      "  13.2   13.3   13.4   13.5   13.6   13.7   13.8   13.9   14.    14.1   14.2\n",
      "  14.3   14.4   14.5   14.6   14.7   14.8   14.9   15.    15.1   15.2   15.3\n",
      "  15.4   15.5   15.6   15.7   15.8   15.9   16.    16.1   16.2   16.3   16.4\n",
      "  16.5   16.6   16.7   16.8   16.9   17.    17.1   17.2   17.3   17.4   17.5\n",
      "  17.6   17.7   17.8   17.9   18.  ]\n",
      "[[0.0033, 0.0033, 0.0048, 0.0066, 0.0074, 0.0071, 0.0082, 0.009000000000000001, 0.0093, 0.0092, 0.0095, 0.0105, 0.0106, 0.011000000000000001, 0.0121, 0.0122, 0.0135, 0.0141, 0.0155, 0.0157, 0.0164, 0.0167, 0.018000000000000002, 0.0176, 0.0172, 0.0177, 0.0169, 0.0171, 0.0173, 0.0176, 0.0168, 0.0171, 0.0169, 0.016, 0.016, 0.0168, 0.0173, 0.0167, 0.017, 0.0182, 0.0191, 0.0182, 0.0197, 0.0198, 0.0197, 0.0197, 0.0218, 0.0219, 0.0226, 0.0246, 0.0251, 0.0268, 0.0286, 0.0304, 0.0299, 0.0317, 0.0331, 0.0343, 0.0345, 0.0366, 0.0378, 0.0382, 0.0386, 0.0404, 0.0413, 0.040999999999999995, 0.0431, 0.0429, 0.0429, 0.0445, 0.0464, 0.0467, 0.0485, 0.051, 0.0516, 0.0509, 0.0529, 0.0548, 0.0548, 0.0556, 0.0575, 0.057999999999999996, 0.0588, 0.0609, 0.0609, 0.0603, 0.0608, 0.0621, 0.0606, 0.0609, 0.063, 0.0628, 0.0614, 0.0621, 0.0632, 0.0615, 0.0615, 0.0636, 0.0624, 0.0595, 0.0612, 0.0609, 0.059000000000000004, 0.0596, 0.0617, 0.0599, 0.0577, 0.0598, 0.0582, 0.0538, 0.0542, 0.0558, 0.0521, 0.0511, 0.054000000000000006, 0.0534, 0.0509, 0.051, 0.0522, 0.049, 0.0498, 0.0523, 0.0514, 0.0482, 0.0533, 0.0541, 0.0512, 0.0517, 0.0551, 0.0518, 0.0507, 0.0551, 0.0569, 0.0541, 0.057999999999999996, 0.0632, 0.0634, 0.0663, 0.0735, 0.0754, 0.0766, 0.0825, 0.0872, 0.0848, 0.09, 0.0963, 0.0978, 0.0958, 0.1027, 0.1026, 0.0995, 0.1022, 0.1095, 0.1074, 0.1056, 0.1105, 0.1124, 0.1094, 0.1125, 0.1158, 0.1116, 0.1114, 0.1145, 0.1115, 0.107, 0.1092, 0.1087, 0.0989, 0.0987, 0.1044, 0.1005, 0.0951, 0.1005, 0.0992, 0.0912, 0.092, 0.0931, 0.087, 0.08800000000000001, 0.0941, 0.0876], [0.9943, 0.9934, 0.9935, 0.992, 0.9915, 0.9913, 0.9908, 0.9907, 0.9904, 0.9893, 0.9892, 0.9893, 0.9890000000000001, 0.9890000000000001, 0.9888, 0.9888, 0.9889, 0.9888, 0.9886, 0.9883, 0.9882, 0.9882, 0.9879, 0.9877, 0.9877, 0.9865, 0.9862, 0.9861, 0.9858, 0.9858, 0.9857, 0.9856, 0.9856, 0.9853, 0.9852, 0.9848, 0.9849, 0.9851, 0.9852, 0.9848, 0.9848, 0.9847, 0.9846, 0.9848, 0.9848, 0.9848, 0.9845, 0.9846, 0.9845, 0.9846, 0.9846, 0.9844, 0.9842, 0.9840000000000001, 0.9838, 0.9837, 0.9836, 0.9835, 0.9835, 0.9834, 0.9831, 0.9828, 0.9828, 0.9824, 0.9826, 0.9825, 0.9823, 0.9821, 0.9821, 0.9818, 0.9818, 0.9813, 0.9812, 0.9809, 0.9809, 0.9808, 0.9806, 0.9805, 0.9802, 0.9801, 0.9797, 0.9798, 0.9793, 0.9792, 0.9789, 0.9787, 0.9786, 0.9787, 0.9785, 0.9786, 0.9782, 0.9779, 0.978, 0.9779, 0.9782, 0.9774, 0.9777, 0.9772, 0.9772, 0.9773, 0.9771, 0.9769, 0.977, 0.9768, 0.9768, 0.9768, 0.9771, 0.9772, 0.9769, 0.9772, 0.977, 0.9778, 0.9772, 0.9777, 0.9773, 0.9773, 0.9777, 0.9777, 0.977, 0.9776, 0.9772, 0.9771, 0.9771, 0.9775, 0.9773, 0.9759, 0.9765, 0.9768, 0.9763, 0.9761, 0.9764, 0.9752, 0.9757, 0.9759, 0.9751, 0.9744, 0.9747, 0.9735, 0.9729, 0.9737, 0.9732, 0.9725, 0.9711, 0.9723, 0.9716, 0.9716, 0.9704, 0.9713, 0.97, 0.9702, 0.9698, 0.9695, 0.9696, 0.9681, 0.9685, 0.9681, 0.9683, 0.9677, 0.9677, 0.9665, 0.9674, 0.9681, 0.9677, 0.9664, 0.9697, 0.9675, 0.9686, 0.9691, 0.9695, 0.9670000000000001, 0.9664, 0.9677, 0.9664, 0.9665, 0.9672, 0.966, 0.9657, 0.9671, 0.9661, 0.9654, 0.9655], [0.0019, 0.0032, 0.0053, 0.0053, 0.0055, 0.0047, 0.0049, 0.0047, 0.0056, 0.006, 0.0074, 0.0081, 0.0096, 0.0103, 0.0115, 0.0121, 0.0135, 0.013999999999999999, 0.0159, 0.0164, 0.0176, 0.0168, 0.0169, 0.0178, 0.0175, 0.0176, 0.0167, 0.0165, 0.0156, 0.0156, 0.0154, 0.0153, 0.0154, 0.0152, 0.0153, 0.0153, 0.0158, 0.0165, 0.0176, 0.0181, 0.0186, 0.0185, 0.0186, 0.0181, 0.018000000000000002, 0.0173, 0.0181, 0.0189, 0.0201, 0.0215, 0.0231, 0.0249, 0.0263, 0.0284, 0.0291, 0.0308, 0.032, 0.0334, 0.0351, 0.0362, 0.0373, 0.0374, 0.0379, 0.0381, 0.0384, 0.0386, 0.0391, 0.0398, 0.0414, 0.0426, 0.0443, 0.0457, 0.0472, 0.0487, 0.0499, 0.0511, 0.0519, 0.0532, 0.0542, 0.0559, 0.0573, 0.0591, 0.0605, 0.0625, 0.0635, 0.0653, 0.0659, 0.0667, 0.0667, 0.0669, 0.0668, 0.0665, 0.0667, 0.0667, 0.067, 0.067, 0.0677, 0.0675, 0.068, 0.0673, 0.0674, 0.0667, 0.0674, 0.0672, 0.0679, 0.0675, 0.0668, 0.0654, 0.0634, 0.0612, 0.0582, 0.0556, 0.0528, 0.0512, 0.0499, 0.0503, 0.0501, 0.0505, 0.0502, 0.0515, 0.0518, 0.0531, 0.0539, 0.0548, 0.0562, 0.0565, 0.0576, 0.0575, 0.0585, 0.0584, 0.06, 0.0614, 0.0643, 0.0658, 0.0683, 0.0694, 0.0719, 0.0738, 0.0775, 0.081, 0.0844, 0.0876, 0.0901, 0.09300000000000001, 0.0943, 0.0958, 0.0959, 0.0975, 0.0984, 0.1005, 0.1024, 0.1051, 0.1071, 0.109, 0.1095, 0.1087, 0.1079, 0.1065, 0.1062, 0.1049, 0.1046, 0.1026, 0.1017, 0.0986, 0.0969, 0.0934, 0.09300000000000001, 0.0924, 0.0943, 0.0946, 0.0962, 0.0965, 0.09699999999999999, 0.0968, 0.095, 0.0941, 0.092, 0.0907, 0.08800000000000001, 0.0864, 0.0829]]\n"
     ]
    }
   ],
   "source": [
    "dp.keep_only_nth_indexes(3)\n",
    "print dp.independentvar\n",
    "print dp.dependentvars"
   ]
  },
  {
   "cell_type": "code",
   "execution_count": 16,
   "metadata": {},
   "outputs": [
    {
     "data": {
      "image/png": "[encoded data removed]",
      "text/plain": [
       "<matplotlib.figure.Figure at 0x11849d30>"
      ]
     },
     "metadata": {},
     "output_type": "display_data"
    }
   ],
   "source": [
    "dp.plot_values(name=\"before interpolation\")"
   ]
  },
  {
   "cell_type": "code",
   "execution_count": 17,
   "metadata": {},
   "outputs": [],
   "source": [
    "dp.create_interpolation_functions()"
   ]
  },
  {
   "cell_type": "code",
   "execution_count": 18,
   "metadata": {},
   "outputs": [
    {
     "name": "stderr",
     "output_type": "stream",
     "text": [
      "C:\\ProgramData\\Anaconda2\\lib\\site-packages\\ipykernel_launcher.py:64: FutureWarning: comparison to `None` will result in an elementwise object comparison in the future.\n"
     ]
    }
   ],
   "source": [
    "nivar = np.linspace(dp.independentvar.min(),dp.independentvar.max(),50)\n",
    "ndvars = dp.get_interpolated_dependents(ivals = nivar)"
   ]
  },
  {
   "cell_type": "code",
   "execution_count": 19,
   "metadata": {},
   "outputs": [],
   "source": [
    "dpi = DataProcessor()\n",
    "dpi.set_data(nivar,ndvars)"
   ]
  },
  {
   "cell_type": "code",
   "execution_count": 20,
   "metadata": {},
   "outputs": [
    {
     "data": {
      "image/png": "[encoded data removed]",
      "text/plain": [
       "<matplotlib.figure.Figure at 0x165eb358>"
      ]
     },
     "metadata": {},
     "output_type": "display_data"
    }
   ],
   "source": [
    "dpi.plot_values()"
   ]
  },
  {
   "cell_type": "code",
   "execution_count": 21,
   "metadata": {},
   "outputs": [
    {
     "name": "stdout",
     "output_type": "stream",
     "text": [
      "[  0.05         0.41632653   0.78265306   1.14897959   1.51530612\n",
      "   1.88163265   2.24795918   2.61428571   2.98061224   3.34693878\n",
      "   3.71326531   4.07959184   4.44591837   4.8122449    5.17857143\n",
      "   5.54489796   5.91122449   6.27755102   6.64387755   7.01020408\n",
      "   7.37653061   7.74285714   8.10918367   8.4755102    8.84183673\n",
      "   9.20816327   9.5744898    9.94081633  10.30714286  10.67346939\n",
      "  11.03979592  11.40612245  11.77244898  12.13877551  12.50510204\n",
      "  12.87142857  13.2377551   13.60408163  13.97040816  14.33673469\n",
      "  14.70306122  15.06938776  15.43571429  15.80204082  16.16836735\n",
      "  16.53469388  16.90102041  17.26734694  17.63367347  18.        ]\n",
      "[  1.14897959   1.51530612   1.88163265   2.24795918   2.61428571\n",
      "   2.98061224   3.34693878   3.71326531   4.07959184   4.44591837\n",
      "   4.8122449    5.17857143   5.54489796   5.91122449   6.27755102\n",
      "   6.64387755   7.01020408   7.37653061   7.74285714   8.10918367\n",
      "   8.4755102    8.84183673   9.20816327   9.5744898    9.94081633\n",
      "  10.30714286  10.67346939  11.03979592  11.40612245  11.77244898\n",
      "  12.13877551  12.50510204  12.87142857  13.2377551   13.60408163\n",
      "  13.97040816  14.33673469  14.70306122  15.06938776  15.43571429\n",
      "  15.80204082  16.16836735  16.53469388  16.90102041  17.26734694\n",
      "  17.63367347  18.        ]\n",
      "[  1.51530612   1.88163265   2.24795918   2.61428571   2.98061224\n",
      "   3.34693878   3.71326531   4.07959184   4.44591837   4.8122449\n",
      "   5.17857143   5.54489796   5.91122449   6.27755102   6.64387755\n",
      "   7.01020408   7.37653061   7.74285714   8.10918367   8.4755102\n",
      "   8.84183673   9.20816327   9.5744898    9.94081633  10.30714286\n",
      "  10.67346939  11.03979592  11.40612245  11.77244898  12.13877551\n",
      "  12.50510204  12.87142857  13.2377551   13.60408163  13.97040816\n",
      "  14.33673469  14.70306122  15.06938776  15.43571429  15.80204082\n",
      "  16.16836735  16.53469388  16.90102041  17.26734694  17.63367347  18.        ]\n",
      "[  1.88163265   2.24795918   2.61428571   3.34693878   3.71326531\n",
      "   4.07959184   4.8122449    5.17857143   5.54489796   6.27755102\n",
      "   6.64387755   7.01020408   7.74285714   8.10918367   8.4755102\n",
      "   9.20816327   9.5744898    9.94081633  10.67346939  11.03979592\n",
      "  11.40612245  12.13877551  12.50510204  12.87142857  13.60408163\n",
      "  13.97040816  14.33673469  15.06938776  15.43571429  15.80204082\n",
      "  16.53469388  16.90102041  17.26734694  18.        ]\n"
     ]
    }
   ],
   "source": [
    "print dpi.independentvar\n",
    "dpi.remove_index_range(0,3)\n",
    "print dpi.independentvar\n",
    "dpi.remove_specific_index(0)\n",
    "print dpi.independentvar\n",
    "dpi.remove_nth_indexes(4)\n",
    "print dpi.independentvar"
   ]
  },
  {
   "cell_type": "code",
   "execution_count": 22,
   "metadata": {},
   "outputs": [
    {
     "ename": "ValueError",
     "evalue": "Lengths of dependent variable list must be the same size as the independent variable list!",
     "output_type": "error",
     "traceback": [
      "\u001b[1;31m---------------------------------------------------------------------------\u001b[0m",
      "\u001b[1;31mValueError\u001b[0m                                Traceback (most recent call last)",
      "\u001b[1;32m<ipython-input-22-fc3d038edf58>\u001b[0m in \u001b[0;36m<module>\u001b[1;34m()\u001b[0m\n\u001b[1;32m----> 1\u001b[1;33m \u001b[0mdpi\u001b[0m\u001b[1;33m.\u001b[0m\u001b[0madd_new_dependent_var\u001b[0m\u001b[1;33m(\u001b[0m\u001b[0mrange\u001b[0m\u001b[1;33m(\u001b[0m\u001b[1;36m50\u001b[0m\u001b[1;33m)\u001b[0m\u001b[1;33m)\u001b[0m\u001b[1;33m\u001b[0m\u001b[0m\n\u001b[0m",
      "\u001b[1;32m<ipython-input-13-46c6318ea40d>\u001b[0m in \u001b[0;36madd_new_dependent_var\u001b[1;34m(self, ndvar)\u001b[0m\n\u001b[0;32m     99\u001b[0m     \u001b[1;32mdef\u001b[0m \u001b[0madd_new_dependent_var\u001b[0m\u001b[1;33m(\u001b[0m\u001b[0mself\u001b[0m\u001b[1;33m,\u001b[0m\u001b[0mndvar\u001b[0m\u001b[1;33m)\u001b[0m\u001b[1;33m:\u001b[0m\u001b[1;33m\u001b[0m\u001b[0m\n\u001b[0;32m    100\u001b[0m         \u001b[1;32mif\u001b[0m \u001b[0mlen\u001b[0m\u001b[1;33m(\u001b[0m\u001b[0mself\u001b[0m\u001b[1;33m.\u001b[0m\u001b[0mindependentvar\u001b[0m\u001b[1;33m)\u001b[0m \u001b[1;33m!=\u001b[0m \u001b[0mlen\u001b[0m\u001b[1;33m(\u001b[0m\u001b[0mndvar\u001b[0m\u001b[1;33m)\u001b[0m\u001b[1;33m:\u001b[0m\u001b[1;33m\u001b[0m\u001b[0m\n\u001b[1;32m--> 101\u001b[1;33m             \u001b[1;32mraise\u001b[0m \u001b[0mValueError\u001b[0m\u001b[1;33m(\u001b[0m\u001b[1;34m\"Lengths of dependent variable list must be the same size as the independent variable list!\"\u001b[0m\u001b[1;33m)\u001b[0m\u001b[1;33m\u001b[0m\u001b[0m\n\u001b[0m\u001b[0;32m    102\u001b[0m         \u001b[1;32mif\u001b[0m \u001b[0misinstance\u001b[0m\u001b[1;33m(\u001b[0m\u001b[0mndvar\u001b[0m\u001b[1;33m,\u001b[0m \u001b[0mnp\u001b[0m\u001b[1;33m.\u001b[0m\u001b[0mndarray\u001b[0m\u001b[1;33m)\u001b[0m\u001b[1;33m:\u001b[0m\u001b[1;33m\u001b[0m\u001b[0m\n\u001b[0;32m    103\u001b[0m             \u001b[0mself\u001b[0m\u001b[1;33m.\u001b[0m\u001b[0mdependentvars\u001b[0m\u001b[1;33m.\u001b[0m\u001b[0mappend\u001b[0m\u001b[1;33m(\u001b[0m\u001b[0mndvar\u001b[0m\u001b[1;33m)\u001b[0m\u001b[1;33m.\u001b[0m\u001b[0mtolist\u001b[0m\u001b[1;33m(\u001b[0m\u001b[1;33m)\u001b[0m\u001b[1;33m\u001b[0m\u001b[0m\n",
      "\u001b[1;31mValueError\u001b[0m: Lengths of dependent variable list must be the same size as the independent variable list!"
     ]
    }
   ],
   "source": [
    "dpi.add_new_dependent_var(range(50))"
   ]
  }
 ],
 "metadata": {
  "kernelspec": {
   "display_name": "Python 2",
   "language": "python",
   "name": "python2"
  },
  "language_info": {
   "codemirror_mode": {
    "name": "ipython",
    "version": 2
   },
   "file_extension": ".py",
   "mimetype": "text/x-python",
   "name": "python",
   "nbconvert_exporter": "python",
   "pygments_lexer": "ipython2",
   "version": "2.7.13"
  }
 },
 "nbformat": 4,
 "nbformat_minor": 2
}

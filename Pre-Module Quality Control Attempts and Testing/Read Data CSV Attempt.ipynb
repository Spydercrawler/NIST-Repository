{
 "cells": [
  {
   "cell_type": "code",
   "execution_count": 35,
   "metadata": {
    "collapsed": true
   },
   "outputs": [],
   "source": [
    "import pandas as pd\n",
    "import numpy as np\n",
    "import scipy as sp\n",
    "from scipy import interpolate\n",
    "import matplotlib.pyplot as plt"
   ]
  },
  {
   "cell_type": "code",
   "execution_count": 36,
   "metadata": {},
   "outputs": [],
   "source": [
    "df = pd.read_csv('../Combined_Two_Port_Check_Standard.csv').head(543)"
   ]
  },
  {
   "cell_type": "code",
   "execution_count": 37,
   "metadata": {},
   "outputs": [],
   "source": [
    "frequencies = df['Frequency'].values[::3]\n",
    "magS11 = df['magS11'].values[::3]\n",
    "magS21 = df['magS21'].values[::3]\n",
    "magS22 = df['magS22'].values[::3]"
   ]
  },
  {
   "cell_type": "code",
   "execution_count": 38,
   "metadata": {},
   "outputs": [
    {
     "data": {
      "text/plain": [
       "[<matplotlib.lines.Line2D at 0x15f21eb8>,\n",
       " <matplotlib.lines.Line2D at 0x114fe3c8>]"
      ]
     },
     "execution_count": 38,
     "metadata": {},
     "output_type": "execute_result"
    }
   ],
   "source": [
    "plt.subplot(2,1,1)\n",
    "plt.axis(\"off\")\n",
    "plt.title(\"before interpolation\")\n",
    "plt.plot(frequencies,magS11,\"r\",frequencies,magS22,\"b\")"
   ]
  },
  {
   "cell_type": "code",
   "execution_count": 39,
   "metadata": {
    "collapsed": true
   },
   "outputs": [],
   "source": [
    "magS11i = interpolate.interp1d(frequencies, magS11)\n",
    "magS21i = interpolate.interp1d(frequencies, magS21)\n",
    "magS22i = interpolate.interp1d(frequencies, magS22)"
   ]
  },
  {
   "cell_type": "code",
   "execution_count": 40,
   "metadata": {
    "collapsed": true
   },
   "outputs": [],
   "source": [
    "frequenciesnew = np.linspace(frequencies.min(),frequencies.max(),100)\n",
    "magS11n = magS11i(frequenciesnew)\n",
    "magS21n = magS21i(frequenciesnew)\n",
    "magS22n = magS22i(frequenciesnew)"
   ]
  },
  {
   "cell_type": "code",
   "execution_count": 41,
   "metadata": {},
   "outputs": [
    {
     "data": {
      "image/png": "[encoded data removed]",
      "text/plain": [
       "<matplotlib.figure.Figure at 0x15f2ada0>"
      ]
     },
     "metadata": {},
     "output_type": "display_data"
    }
   ],
   "source": [
    "plt.subplot(2,1,2)\n",
    "plt.axis(\"off\")\n",
    "plt.title(\"after interpolation\")\n",
    "plt.plot(frequenciesnew,magS11n,\"r\",frequenciesnew,magS22n,\"b\")\n",
    "plt.show()"
   ]
  }
 ],
 "metadata": {
  "kernelspec": {
   "display_name": "Python 2",
   "language": "python",
   "name": "python2"
  },
  "language_info": {
   "codemirror_mode": {
    "name": "ipython",
    "version": 2
   },
   "file_extension": ".py",
   "mimetype": "text/x-python",
   "name": "python",
   "nbconvert_exporter": "python",
   "pygments_lexer": "ipython2",
   "version": "2.7.13"
  }
 },
 "nbformat": 4,
 "nbformat_minor": 2
}

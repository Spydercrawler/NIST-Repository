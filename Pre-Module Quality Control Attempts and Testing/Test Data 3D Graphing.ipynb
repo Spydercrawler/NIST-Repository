{
 "cells": [
  {
   "cell_type": "code",
   "execution_count": 58,
   "metadata": {
    "collapsed": true
   },
   "outputs": [],
   "source": [
    "import numpy as np\n",
    "from sklearn.externals import joblib\n",
    "import copy\n",
    "import random\n",
    "import matplotlib as mp\n",
    "import matplotlib.pyplot as plt\n",
    "from sklearn.utils import shuffle\n",
    "from sklearn.base import clone\n",
    "from sklearn import metrics\n",
    "from __future__ import unicode_literals"
   ]
  },
  {
   "cell_type": "code",
   "execution_count": 59,
   "metadata": {
    "collapsed": true
   },
   "outputs": [],
   "source": [
    "from sklearn.tree import DecisionTreeClassifier\n",
    "from sklearn.ensemble import RandomForestClassifier, VotingClassifier\n",
    "from sklearn.naive_bayes import GaussianNB\n",
    "from sklearn.discriminant_analysis import QuadraticDiscriminantAnalysis"
   ]
  },
  {
   "cell_type": "code",
   "execution_count": 60,
   "metadata": {
    "collapsed": true
   },
   "outputs": [],
   "source": [
    "%matplotlib notebook"
   ]
  },
  {
   "cell_type": "code",
   "execution_count": 61,
   "metadata": {
    "collapsed": true
   },
   "outputs": [],
   "source": [
    "datadict = joblib.load(\"Two_Port_Standard_Dictionary_Cleaned_Interpolated.pkl\")"
   ]
  },
  {
   "cell_type": "code",
   "execution_count": 62,
   "metadata": {
    "collapsed": true
   },
   "outputs": [],
   "source": [
    "num_fake_points = 15000\n",
    "magS11_deviation = 0.003\n",
    "magS21_deviation = 0.0001\n",
    "magS22_deviation = 0.003\n",
    "frequency_range = np.linspace(2,18,50)"
   ]
  },
  {
   "cell_type": "code",
   "execution_count": 63,
   "metadata": {
    "collapsed": true
   },
   "outputs": [],
   "source": [
    "magS11_points = []\n",
    "magS21_points = []\n",
    "magS22_points = []\n",
    "for i in range(num_fake_points):\n",
    "    new_dataset = copy.deepcopy(datadict['CTN210']['System 2,7'][random.choice(datadict['CTN210']['System 2,7'].keys())])\n",
    "    new_dataset[\"magS11\"] += np.random.normal(0,magS11_deviation,50)\n",
    "    new_dataset[\"magS21\"] += np.random.normal(0,magS21_deviation,50)\n",
    "    new_dataset[\"magS22\"] += np.random.normal(0,magS22_deviation,50)\n",
    "    magS11_points.append(new_dataset[\"magS11\"].tolist())\n",
    "    magS21_points.append(new_dataset[\"magS21\"].tolist())\n",
    "    magS22_points.append(new_dataset[\"magS22\"].tolist())\n",
    "magS11_arr = np.array(magS11_points)\n",
    "magS21_arr = np.array(magS21_points)\n",
    "magS22_arr = np.array(magS22_points)"
   ]
  },
  {
   "cell_type": "code",
   "execution_count": 64,
   "metadata": {
    "collapsed": true
   },
   "outputs": [],
   "source": [
    "names = [\"Gaussian Naive Bayes\",\n",
    "         \"Decision Tree\",\n",
    "         \"Random Forest\",\n",
    "         \"Quadratic Discriminant Analysis\",\n",
    "         \"Voting\"]\n",
    "classifiers = [GaussianNB(),\n",
    "               DecisionTreeClassifier(),\n",
    "               RandomForestClassifier(),\n",
    "               QuadraticDiscriminantAnalysis(),\n",
    "               VotingClassifier(estimators=[\n",
    "                   ('gnb',GaussianNB()),\n",
    "                   ('rf',RandomForestClassifier()),\n",
    "                   ('dt',DecisionTreeClassifier()),\n",
    "                   ('qda',QuadraticDiscriminantAnalysis())\n",
    "               ],voting=\"soft\")]"
   ]
  },
  {
   "cell_type": "code",
   "execution_count": 65,
   "metadata": {
    "collapsed": true
   },
   "outputs": [],
   "source": [
    "def get_trained_classifier(randomness_amplitude,untrained_classifier):\n",
    "    incorrect_magS21_data = copy.deepcopy(magS21_arr)\n",
    "    for i in range(len(incorrect_magS21_data)):\n",
    "        incorrect_magS21_data[i] = (incorrect_magS21_data[i] + np.random.normal(0,randomness_amplitude,50))\n",
    "    #Making training and test data\n",
    "    S21_training_data = []\n",
    "    S21_training_data.extend(incorrect_magS21_data.tolist())\n",
    "    S21_training_data.extend(magS21_arr.tolist())\n",
    "    S21_training_data_arr = np.array(S21_training_data)\n",
    "    targets = [\"Bad\",\"Good\"]\n",
    "    S21_target_arr = np.repeat(targets,len(magS21_arr))\n",
    "    S21_training_data_arr,S21_target_arr = shuffle(S21_training_data_arr,S21_target_arr, random_state=0)\n",
    "    #Cloning and Training Classifier\n",
    "    clf = clone(untrained_classifier)\n",
    "    clf.fit(S21_training_data_arr,S21_target_arr)\n",
    "    return clf"
   ]
  },
  {
   "cell_type": "code",
   "execution_count": 66,
   "metadata": {
    "collapsed": true
   },
   "outputs": [],
   "source": [
    "def get_test_data_predict_correct_percent(randomness_amplitude,trained_classifier):\n",
    "    test_data = copy.deepcopy(magS21_arr)\n",
    "    for i in range(len(test_data)):\n",
    "        test_data[i] = test_data[i] + np.random.normal(0,randomness_amplitude,50)\n",
    "    predicted = trained_classifier.predict(test_data)\n",
    "    num_good_points = 0\n",
    "    for index in range(len(predicted)):\n",
    "        if predicted[index] == \"Good\":\n",
    "            num_good_points += 1\n",
    "    return (num_good_points/float(len(predicted)))*100.0"
   ]
  },
  {
   "cell_type": "code",
   "execution_count": 67,
   "metadata": {
    "collapsed": true
   },
   "outputs": [],
   "source": [
    "def get_test_data_accuracy(randomness_amplitude,trained_classifier):\n",
    "    test_data = copy.deepcopy(magS21_arr)\n",
    "    expected = []\n",
    "    for i in range(len(test_data)):\n",
    "        test_data[i] = test_data[i] + np.random.normal(0,randomness_amplitude,50)\n",
    "        over_good_data_amplitude = False\n",
    "        for valueindex in range(len(test_data[i])):\n",
    "            if test_data[i][valueindex] > magS21_arr[i][valueindex] + magS21_deviation or test_data[i][valueindex] < magS21_arr[i][valueindex]-magS21_deviation:\n",
    "                over_good_data_amplitude=True\n",
    "        if over_good_data_amplitude:\n",
    "            expected.append(\"Bad\")\n",
    "        else:\n",
    "            expected.append(\"Good\")\n",
    "    predicted = trained_classifier.predict(test_data)\n",
    "    num_correct_points = 0\n",
    "    for index in range(len(predicted)):\n",
    "        if predicted[index] == expected[index]:\n",
    "            num_correct_points += 1\n",
    "    return (num_correct_points/float(len(expected)))*100.0"
   ]
  },
  {
   "cell_type": "code",
   "execution_count": 68,
   "metadata": {},
   "outputs": [],
   "source": [
    "num_test_amplitudes = 10\n",
    "num_train_amplitudes = 10\n",
    "test_amplitude_min = 0\n",
    "train_amplitude_min = 0\n",
    "test_amplitude_max = 0.0015\n",
    "train_amplitude_max = 0.002"
   ]
  },
  {
   "cell_type": "code",
   "execution_count": 69,
   "metadata": {},
   "outputs": [
    {
     "ename": "KeyboardInterrupt",
     "evalue": "",
     "output_type": "error",
     "traceback": [
      "\u001b[1;31m---------------------------------------------------------------------------\u001b[0m",
      "\u001b[1;31mKeyboardInterrupt\u001b[0m                         Traceback (most recent call last)",
      "\u001b[1;32m<ipython-input-69-2f9db8a8274b>\u001b[0m in \u001b[0;36m<module>\u001b[1;34m()\u001b[0m\n\u001b[0;32m     10\u001b[0m     \u001b[1;32mfor\u001b[0m \u001b[0mamp\u001b[0m \u001b[1;32min\u001b[0m \u001b[0mtest_amplitudes\u001b[0m\u001b[1;33m:\u001b[0m\u001b[1;33m\u001b[0m\u001b[0m\n\u001b[0;32m     11\u001b[0m         \u001b[0mtest_data_predict_correct_percent\u001b[0m \u001b[1;33m=\u001b[0m \u001b[0mget_test_data_predict_correct_percent\u001b[0m\u001b[1;33m(\u001b[0m\u001b[0mamp\u001b[0m\u001b[1;33m,\u001b[0m\u001b[0mtrained_classifier\u001b[0m\u001b[1;33m)\u001b[0m\u001b[1;33m\u001b[0m\u001b[0m\n\u001b[1;32m---> 12\u001b[1;33m         \u001b[0mtest_data_accuracy\u001b[0m \u001b[1;33m=\u001b[0m \u001b[0mget_test_data_accuracy\u001b[0m\u001b[1;33m(\u001b[0m\u001b[0mamp\u001b[0m\u001b[1;33m,\u001b[0m\u001b[0mtrained_classifier\u001b[0m\u001b[1;33m)\u001b[0m\u001b[1;33m\u001b[0m\u001b[0m\n\u001b[0m\u001b[0;32m     13\u001b[0m         \u001b[0mtraining_amp_c_percent_lst\u001b[0m\u001b[1;33m.\u001b[0m\u001b[0mappend\u001b[0m\u001b[1;33m(\u001b[0m\u001b[0mtest_data_predict_correct_percent\u001b[0m\u001b[1;33m)\u001b[0m\u001b[1;33m\u001b[0m\u001b[0m\n\u001b[0;32m     14\u001b[0m         \u001b[0mtraining_amp_accuracy_lst\u001b[0m\u001b[1;33m.\u001b[0m\u001b[0mappend\u001b[0m\u001b[1;33m(\u001b[0m\u001b[0mtest_data_accuracy\u001b[0m\u001b[1;33m)\u001b[0m\u001b[1;33m\u001b[0m\u001b[0m\n",
      "\u001b[1;32m<ipython-input-67-324f6750fc4d>\u001b[0m in \u001b[0;36mget_test_data_accuracy\u001b[1;34m(randomness_amplitude, trained_classifier)\u001b[0m\n\u001b[0;32m     16\u001b[0m     \u001b[1;32mfor\u001b[0m \u001b[0mindex\u001b[0m \u001b[1;32min\u001b[0m \u001b[0mrange\u001b[0m\u001b[1;33m(\u001b[0m\u001b[0mlen\u001b[0m\u001b[1;33m(\u001b[0m\u001b[0mpredicted\u001b[0m\u001b[1;33m)\u001b[0m\u001b[1;33m)\u001b[0m\u001b[1;33m:\u001b[0m\u001b[1;33m\u001b[0m\u001b[0m\n\u001b[0;32m     17\u001b[0m         \u001b[1;32mif\u001b[0m \u001b[0mpredicted\u001b[0m\u001b[1;33m[\u001b[0m\u001b[0mindex\u001b[0m\u001b[1;33m]\u001b[0m \u001b[1;33m==\u001b[0m \u001b[0mexpected\u001b[0m\u001b[1;33m[\u001b[0m\u001b[0mindex\u001b[0m\u001b[1;33m]\u001b[0m\u001b[1;33m:\u001b[0m\u001b[1;33m\u001b[0m\u001b[0m\n\u001b[1;32m---> 18\u001b[1;33m             \u001b[0mnum_correct_points\u001b[0m \u001b[1;33m+=\u001b[0m \u001b[1;36m1\u001b[0m\u001b[1;33m\u001b[0m\u001b[0m\n\u001b[0m\u001b[0;32m     19\u001b[0m     \u001b[1;32mreturn\u001b[0m \u001b[1;33m(\u001b[0m\u001b[0mnum_correct_points\u001b[0m\u001b[1;33m/\u001b[0m\u001b[0mfloat\u001b[0m\u001b[1;33m(\u001b[0m\u001b[0mlen\u001b[0m\u001b[1;33m(\u001b[0m\u001b[0mexpected\u001b[0m\u001b[1;33m)\u001b[0m\u001b[1;33m)\u001b[0m\u001b[1;33m)\u001b[0m\u001b[1;33m*\u001b[0m\u001b[1;36m100.0\u001b[0m\u001b[1;33m\u001b[0m\u001b[0m\n",
      "\u001b[1;31mKeyboardInterrupt\u001b[0m: "
     ]
    }
   ],
   "source": [
    "test_amplitudes = np.linspace(test_amplitude_min,test_amplitude_max,num_test_amplitudes)\n",
    "training_amplitudes = np.linspace(train_amplitude_min,train_amplitude_max,num_train_amplitudes)\n",
    "z_vals_accuracy = []\n",
    "z_vals_c_percent = []\n",
    "classifier = RandomForestClassifier()\n",
    "for training_amp in training_amplitudes:\n",
    "    trained_classifier = get_trained_classifier(training_amp,classifier)\n",
    "    training_amp_c_percent_lst = []\n",
    "    training_amp_accuracy_lst = []\n",
    "    for amp in test_amplitudes:\n",
    "        test_data_predict_correct_percent = get_test_data_predict_correct_percent(amp,trained_classifier)\n",
    "        test_data_accuracy = get_test_data_accuracy(amp,trained_classifier)\n",
    "        training_amp_c_percent_lst.append(test_data_predict_correct_percent)\n",
    "        training_amp_accuracy_lst.append(test_data_accuracy)\n",
    "    z_vals_accuracy.append(training_amp_accuracy_lst)\n",
    "    z_vals_c_percent.append(training_amp_c_percent_lst)\n",
    "    print \"Finished Training Amplitude!\"\n",
    "print \"Done!\""
   ]
  },
  {
   "cell_type": "code",
   "execution_count": null,
   "metadata": {},
   "outputs": [],
   "source": [
    "x_vals,y_vals = np.meshgrid(training_amplitudes,test_amplitudes)"
   ]
  },
  {
   "cell_type": "code",
   "execution_count": null,
   "metadata": {
    "collapsed": true
   },
   "outputs": [],
   "source": [
    "from matplotlib import cm\n",
    "from mpl_toolkits.mplot3d import Axes3D"
   ]
  },
  {
   "cell_type": "code",
   "execution_count": null,
   "metadata": {},
   "outputs": [],
   "source": [
    "plt.ion()\n",
    "fig = plt.figure()\n",
    "ax = fig.gca(projection='3d')\n",
    "surf = ax.plot_wireframe(x_vals,y_vals,z_vals_c_percent)\n",
    "plt.show()"
   ]
  }
 ],
 "metadata": {
  "kernelspec": {
   "display_name": "Python 2",
   "language": "python",
   "name": "python2"
  },
  "language_info": {
   "codemirror_mode": {
    "name": "ipython",
    "version": 2
   },
   "file_extension": ".py",
   "mimetype": "text/x-python",
   "name": "python",
   "nbconvert_exporter": "python",
   "pygments_lexer": "ipython2",
   "version": "2.7.13"
  }
 },
 "nbformat": 4,
 "nbformat_minor": 2
}

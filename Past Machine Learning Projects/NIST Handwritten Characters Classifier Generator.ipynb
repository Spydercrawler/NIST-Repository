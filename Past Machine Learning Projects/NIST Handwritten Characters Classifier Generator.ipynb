{
 "cells": [
  {
   "cell_type": "code",
   "execution_count": 1,
   "metadata": {},
   "outputs": [
    {
     "name": "stdout",
     "output_type": "stream",
     "text": [
      "['0' '1' '2' '3' '4' '5' '6' '7' '8' '9' 'A' 'B' 'C' 'D' 'E' 'F' 'G' 'H'\n",
      " 'I' 'J' 'K' 'L' 'M' 'N' 'O' 'P' 'Q' 'R' 'S' 'T' 'U' 'V' 'W' 'X' 'Y' 'Z'\n",
      " 'a' 'b' 'c' 'd' 'e' 'f' 'g' 'h' 'i' 'j' 'k' 'l' 'm' 'n' 'o' 'p' 'q' 'r'\n",
      " 's' 't' 'u' 'v' 'w' 'x' 'y' 'z']\n"
     ]
    }
   ],
   "source": [
    "from PIL import Image\n",
    "import numpy as np\n",
    "from sklearn import metrics\n",
    "from sklearn.naive_bayes import MultinomialNB\n",
    "import os\n",
    "import math\n",
    "from sklearn.utils import shuffle\n",
    "from sklearn.externals import joblib\n",
    "\n",
    "folders = np.array([\"by_class/\" + foldername + \"/train_\" + foldername + \"/\" for foldername in os.listdir(\"by_class\")])\n",
    "characters = np.array([chr(int(foldername,16)) for foldername in os.listdir(\"by_class\")])\n",
    "print characters"
   ]
  },
  {
   "cell_type": "code",
   "execution_count": 2,
   "metadata": {
    "collapsed": true
   },
   "outputs": [],
   "source": [
    "clf = MultinomialNB()\n",
    "minfoldersize = len(os.listdir(folders[0]))\n",
    "for j in range(1, len(folders)):\n",
    "    if len(os.listdir(folders[j]))<minfoldersize:\n",
    "        minfoldersize = len(os.listdir(folders[j]))"
   ]
  },
  {
   "cell_type": "code",
   "execution_count": 3,
   "metadata": {
    "scrolled": false
   },
   "outputs": [
    {
     "name": "stderr",
     "output_type": "stream",
     "text": [
      "C:\\ProgramData\\Anaconda2\\lib\\site-packages\\sklearn\\naive_bayes.py:455: RuntimeWarning: divide by zero encountered in log\n",
      "  self.class_log_prior_ = (np.log(self.class_count_) -\n"
     ]
    },
    {
     "name": "stdout",
     "output_type": "stream",
     "text": [
      "MultinomialNB(alpha=1.0, class_prior=None, fit_prior=True)\n"
     ]
    }
   ],
   "source": [
    "for (i,f) in enumerate(folders):\n",
    "    j=minfoldersize%10\n",
    "    imagelst = np.array([np.array(Image.open(f+file)) for file in os.listdir(f)[10*j:(10*j)+10]],dtype=object)\n",
    "    targetlst = np.array([characters[i]]*10)\n",
    "    formattedimagelst = np.array([img.flatten().tolist() for img in imagelst],dtype=object)\n",
    "    formattedimagelst, targetlst = shuffle(formattedimagelst, targetlst)\n",
    "    clf.partial_fit(formattedimagelst,targetlst,np.unique(characters))\n",
    "for j in range(minfoldersize//10):\n",
    "    for (i,f) in enumerate(folders):\n",
    "        imagelst = np.array([np.array(Image.open(f+file)) for file in os.listdir(f)[10*j:(10*j)+10]],dtype=object)\n",
    "        targetlst = np.array([characters[i]]*10)\n",
    "        formattedimagelst = np.array([img.flatten().tolist() for img in imagelst],dtype=object)\n",
    "        formattedimagelst, targetlst = shuffle(formattedimagelst, targetlst)\n",
    "        clf.partial_fit(formattedimagelst,targetlst)\n",
    "joblib.dump(clf,'NISTCharacterClassifier.pkl')\n",
    "print clf"
   ]
  }
 ],
 "metadata": {
  "kernelspec": {
   "display_name": "Python 2",
   "language": "python",
   "name": "python2"
  },
  "language_info": {
   "codemirror_mode": {
    "name": "ipython",
    "version": 2
   },
   "file_extension": ".py",
   "mimetype": "text/x-python",
   "name": "python",
   "nbconvert_exporter": "python",
   "pygments_lexer": "ipython2",
   "version": "2.7.13"
  }
 },
 "nbformat": 4,
 "nbformat_minor": 2
}

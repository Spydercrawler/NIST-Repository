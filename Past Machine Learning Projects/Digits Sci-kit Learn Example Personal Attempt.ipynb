{
 "cells": [
  {
   "cell_type": "markdown",
   "metadata": {},
   "source": [
    "# My attempt at the whole digits example\n",
    "I had to use the original code as a reference sometimes, especially to get method names and paths, but overall I tried hard to make this not a complete copy, though technically it has all of the same code...\n",
    "\n",
    "Anyway, first, we have to import 3 things:\n",
    "\n",
    "datasets, to get the digits dataset,\n",
    "\n",
    "svm, to get the SVC classifier,\n",
    "\n",
    "and metrics, to generate a classification report."
   ]
  },
  {
   "cell_type": "code",
   "execution_count": 1,
   "metadata": {
    "collapsed": true
   },
   "outputs": [],
   "source": [
    "from sklearn import datasets, svm, metrics"
   ]
  },
  {
   "cell_type": "markdown",
   "metadata": {},
   "source": [
    "Next, we have to load the digits dataset, and set it to a variable."
   ]
  },
  {
   "cell_type": "code",
   "execution_count": 2,
   "metadata": {
    "collapsed": true
   },
   "outputs": [],
   "source": [
    "digits = datasets.load_digits()"
   ]
  },
  {
   "cell_type": "markdown",
   "metadata": {},
   "source": [
    "Next, we need to turn all the images into a form we can do stuff with. Currently, they are in a 2D array, of opacity values or something like that, I don't know... anyway, we need to turn this into a 1D array, so we use the reshape method:"
   ]
  },
  {
   "cell_type": "code",
   "execution_count": 3,
   "metadata": {
    "collapsed": true
   },
   "outputs": [],
   "source": [
    "num_digits = len(digits.images)\n",
    "data = digits.images.reshape((num_digits,-1))"
   ]
  },
  {
   "cell_type": "markdown",
   "metadata": {},
   "source": [
    "Next, we set up the classifier! I have no idea what gamma does, but the other guys did it, so I thought it would be a good idea! We are using an SVC classifier, since I don't know any other classifiers, so yeah!\n",
    "\n",
    "After we set up the classifier, we train classifier using the first half of the image data and the first half of the digits.target array. Digits.target contains the desired outputs, basically stating what number each image actually contains.\n",
    "\n",
    "You can also see all the information about the classifier in the output, but I don't know what that means and scikit-learn uses a bunch of jargon that I don't understand, so I won't go over these."
   ]
  },
  {
   "cell_type": "code",
   "execution_count": 4,
   "metadata": {
    "scrolled": false
   },
   "outputs": [
    {
     "data": {
      "text/plain": [
       "SVC(C=1.0, cache_size=200, class_weight=None, coef0=0.0,\n",
       "  decision_function_shape=None, degree=3, gamma=0.001, kernel='rbf',\n",
       "  max_iter=-1, probability=False, random_state=None, shrinking=True,\n",
       "  tol=0.001, verbose=False)"
      ]
     },
     "execution_count": 4,
     "metadata": {},
     "output_type": "execute_result"
    }
   ],
   "source": [
    "classifier = svm.SVC(gamma=0.001)\n",
    "classifier.fit(data[:num_digits/2],digits.target[:num_digits/2])"
   ]
  },
  {
   "cell_type": "markdown",
   "metadata": {},
   "source": [
    "Next, we create two arrays:\n",
    "\n",
    "Expected contains the target digits in each image in the second half of the dataset, so basically the goal for each image.\n",
    "\n",
    "Predicted contains the digits that the classifier predicted from the second half of the dataset. If the classifier was perfect, the values in the predicted array would completely equal the values in the expected array."
   ]
  },
  {
   "cell_type": "code",
   "execution_count": 5,
   "metadata": {
    "collapsed": true
   },
   "outputs": [],
   "source": [
    "expected = digits.target[num_digits/2:]\n",
    "predicted = classifier.predict(data[num_digits/2:])"
   ]
  },
  {
   "cell_type": "markdown",
   "metadata": {},
   "source": [
    "Now that we have all of the data on our predictions, we can visualize it and stuff! Here, we generate a classification report basically stating how well we did using some function in scikit-learn."
   ]
  },
  {
   "cell_type": "code",
   "execution_count": 6,
   "metadata": {},
   "outputs": [
    {
     "name": "stdout",
     "output_type": "stream",
     "text": [
      "             precision    recall  f1-score   support\n",
      "\n",
      "          0       1.00      0.99      0.99        88\n",
      "          1       0.99      0.97      0.98        91\n",
      "          2       0.99      0.99      0.99        86\n",
      "          3       0.98      0.87      0.92        91\n",
      "          4       0.99      0.96      0.97        92\n",
      "          5       0.95      0.97      0.96        91\n",
      "          6       0.99      0.99      0.99        91\n",
      "          7       0.96      0.99      0.97        89\n",
      "          8       0.94      1.00      0.97        88\n",
      "          9       0.93      0.98      0.95        92\n",
      "\n",
      "avg / total       0.97      0.97      0.97       899\n",
      "\n"
     ]
    }
   ],
   "source": [
    "print(metrics.classification_report(expected,predicted))"
   ]
  },
  {
   "cell_type": "markdown",
   "metadata": {},
   "source": [
    "We can also output the confusion matrix from here. Now that I know what a confusion matrix is, as well as all of the crazy values above this block of text, I think these things are really nice and helpful!"
   ]
  },
  {
   "cell_type": "code",
   "execution_count": 7,
   "metadata": {},
   "outputs": [
    {
     "name": "stdout",
     "output_type": "stream",
     "text": [
      "[[87  0  0  0  1  0  0  0  0  0]\n",
      " [ 0 88  1  0  0  0  0  0  1  1]\n",
      " [ 0  0 85  1  0  0  0  0  0  0]\n",
      " [ 0  0  0 79  0  3  0  4  5  0]\n",
      " [ 0  0  0  0 88  0  0  0  0  4]\n",
      " [ 0  0  0  0  0 88  1  0  0  2]\n",
      " [ 0  1  0  0  0  0 90  0  0  0]\n",
      " [ 0  0  0  0  0  1  0 88  0  0]\n",
      " [ 0  0  0  0  0  0  0  0 88  0]\n",
      " [ 0  0  0  1  0  1  0  0  0 90]]\n"
     ]
    }
   ],
   "source": [
    "print(metrics.confusion_matrix(expected,predicted))"
   ]
  },
  {
   "cell_type": "markdown",
   "metadata": {},
   "source": [
    "Pretty much all the other stuff in the example is the plotting code and stuff they used so that they could create visualizations of training data and predictions at the bottom as examples, but I really don't care about any of that, and plotting is such a pain that I really don't want to learn all of those functions. Anyway, yeah! I (mostly) understand the example now!"
   ]
  }
 ],
 "metadata": {
  "kernelspec": {
   "display_name": "Python 2",
   "language": "python",
   "name": "python2"
  },
  "language_info": {
   "codemirror_mode": {
    "name": "ipython",
    "version": 2
   },
   "file_extension": ".py",
   "mimetype": "text/x-python",
   "name": "python",
   "nbconvert_exporter": "python",
   "pygments_lexer": "ipython2",
   "version": "2.7.13"
  }
 },
 "nbformat": 4,
 "nbformat_minor": 2
}
